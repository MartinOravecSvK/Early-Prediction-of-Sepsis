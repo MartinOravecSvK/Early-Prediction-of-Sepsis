{
 "cells": [
  {
   "cell_type": "markdown",
   "id": "16062224",
   "metadata": {},
   "source": [
    "# Data Exploration for the Sepsis Dataset"
   ]
  },
  {
   "cell_type": "code",
   "execution_count": 1,
   "id": "3e0a4406-e2d4-4a49-83b1-7d66bc61b2fb",
   "metadata": {},
   "outputs": [],
   "source": [
    "import os\n",
    "import sys\n",
    "import random\n",
    "import pandas as pd\n",
    "import numpy as np\n",
    "from scipy.linalg import toeplitz\n",
    "from copy import copy\n",
    "import math\n",
    "# import hypertools as hyp\n",
    "import matplotlib.pyplot as plt\n",
    "import seaborn as sns\n",
    "\n",
    "# Geniuses that worked on hypertools did not update certain package and thus it produces warnings (they break jupyter lab)\n",
    "import warnings\n",
    "warnings.filterwarnings(\"ignore\")\n",
    "\n",
    "# Comment out if you don't want to see all of the values being printed (i.e. default)\n",
    "from IPython.core.interactiveshell import InteractiveShell\n",
    "InteractiveShell.ast_node_interactivity = \"all\"\n",
    "\n",
    "current_dir = os.getcwd()\n",
    "# utils_path = os.path.join(current_dir, '..', 'utils')\n",
    "utils_path = os.path.join(current_dir, '../')\n",
    "utils_abs_path = os.path.abspath(utils_path)\n",
    "if utils_abs_path not in sys.path:\n",
    "    sys.path.append(utils_abs_path)\n",
    "\n",
    "import utils.get_data as get_data\n",
    "# from impute_methods import *\n",
    "from utils.impute_methods import *\n",
    "\n",
    "DATA_PATH = get_data.get_dataset_abspath()\n",
    "\n",
    "training_setA_path = DATA_PATH + 'training_setA'\n",
    "training_setB_path = DATA_PATH + 'training_setB'\n",
    "\n",
    "figures_path = \"figures/\""
   ]
  },
  {
   "cell_type": "code",
   "execution_count": 2,
   "id": "a6594032",
   "metadata": {},
   "outputs": [
    {
     "name": "stdout",
     "output_type": "stream",
     "text": [
      "Loading dataset...\n"
     ]
    },
    {
     "name": "stderr",
     "output_type": "stream",
     "text": [
      "  0%|          | 0/100 [00:00<?, ?it/s]"
     ]
    },
    {
     "name": "stderr",
     "output_type": "stream",
     "text": [
      "100%|██████████| 100/100 [00:00<00:00, 262.43it/s]\n"
     ]
    },
    {
     "name": "stdout",
     "output_type": "stream",
     "text": [
      "Done.\n",
      "Loading dataset...\n"
     ]
    },
    {
     "name": "stderr",
     "output_type": "stream",
     "text": [
      "100%|██████████| 100/100 [00:00<00:00, 344.74it/s]"
     ]
    },
    {
     "name": "stdout",
     "output_type": "stream",
     "text": [
      "Done.\n"
     ]
    },
    {
     "name": "stderr",
     "output_type": "stream",
     "text": [
      "\n"
     ]
    }
   ],
   "source": [
    "num_files=100\n",
    "df = get_data.get_dataset_as_df(files=num_files)\n",
    "files, _ = get_data.get_dataset_as_np(files=num_files, concat_files=False)\n",
    "\n",
    "data = df.values\n",
    "column_names = df.columns.tolist()"
   ]
  },
  {
   "cell_type": "markdown",
   "id": "36177812",
   "metadata": {},
   "source": [
    "# Exploring NaN value counts"
   ]
  },
  {
   "cell_type": "code",
   "execution_count": 3,
   "id": "a6bc39fc",
   "metadata": {},
   "outputs": [],
   "source": [
    "def sort_columns_by_data(column_names, data):\n",
    "\n",
    "    # Sort the combined list based on the values\n",
    "    sorted_ = sorted(list(zip(column_names, data)), key=lambda x: x[1])\n",
    "\n",
    "    return [item[0] for item in sorted_], np.array([item[1] for item in sorted_])"
   ]
  },
  {
   "cell_type": "code",
   "execution_count": 4,
   "id": "5c210f4c",
   "metadata": {},
   "outputs": [],
   "source": [
    "def count_nan(arr):\n",
    "    return np.sum(np.isnan(arr), axis=0)\n",
    "\n",
    "# Count the number of NaN values in each column\n",
    "nan_counts = count_nan(data)"
   ]
  },
  {
   "cell_type": "code",
   "execution_count": 8,
   "id": "521bfaa2",
   "metadata": {},
   "outputs": [
    {
     "name": "stdout",
     "output_type": "stream",
     "text": [
      "Number of NaN values for each column of the dataset (100 files)\n",
      "Age: 0/3704 (0.0%)\n",
      "Gender: 0/3704 (0.0%)\n",
      "HospAdmTime: 0/3704 (0.0%)\n",
      "ICULOS: 0/3704 (0.0%)\n",
      "SepsisLabel: 0/3704 (0.0%)\n",
      "HR: 302/3704 (8.15%)\n",
      "Resp: 385/3704 (10.39%)\n",
      "MAP: 389/3704 (10.5%)\n",
      "O2Sat: 468/3704 (12.63%)\n",
      "SBP: 646/3704 (17.44%)\n",
      "Unit1: 1602/3704 (43.25%)\n",
      "Unit2: 1602/3704 (43.25%)\n",
      "DBP: 1985/3704 (53.59%)\n",
      "Temp: 2475/3704 (66.82%)\n",
      "FiO2: 3228/3704 (87.15%)\n",
      "Glucose: 3261/3704 (88.04%)\n",
      "Potassium: 3289/3704 (88.8%)\n",
      "Hct: 3306/3704 (89.25%)\n",
      "pH: 3307/3704 (89.28%)\n",
      "BaseExcess: 3333/3704 (89.98%)\n",
      "PaCO2: 3384/3704 (91.36%)\n",
      "Hgb: 3387/3704 (91.44%)\n",
      "BUN: 3392/3704 (91.58%)\n",
      "Chloride: 3393/3704 (91.6%)\n",
      "HCO3: 3397/3704 (91.71%)\n",
      "WBC: 3425/3704 (92.47%)\n",
      "Magnesium: 3426/3704 (92.49%)\n",
      "Creatinine: 3441/3704 (92.9%)\n",
      "Platelets: 3458/3704 (93.36%)\n",
      "Phosphate: 3513/3704 (94.84%)\n",
      "Calcium: 3519/3704 (95.01%)\n",
      "PTT: 3536/3704 (95.46%)\n",
      "SaO2: 3557/3704 (96.03%)\n",
      "Lactate: 3569/3704 (96.36%)\n",
      "AST: 3641/3704 (98.3%)\n",
      "Alkalinephos: 3645/3704 (98.41%)\n",
      "Bilirubin_total: 3655/3704 (98.68%)\n",
      "Fibrinogen: 3679/3704 (99.33%)\n",
      "Bilirubin_direct: 3700/3704 (99.89%)\n",
      "TroponinI: 3700/3704 (99.89%)\n",
      "EtCO2: 3704/3704 (100.0%)\n"
     ]
    }
   ],
   "source": [
    "print(f\"Number of NaN values for each column of the dataset ({num_files} files)\")\n",
    "\n",
    "# Order the column names based on the number of NaN values in each\n",
    "sorted_column_names, sorted_nan_counts = sort_columns_by_data(column_names, nan_counts)\n",
    "sorted_nan_percentages = np.round(sorted_nan_counts/data.shape[0] * 100, 2)\n",
    "\n",
    "# Print the NaN counts of each column\n",
    "for index, (nan_count, column_name)  in enumerate(zip(sorted_nan_counts, sorted_column_names)):\n",
    "    print(f\"{column_name}: {nan_count}/{data.shape[0]} ({sorted_nan_percentages[index]}%)\")"
   ]
  },
  {
   "cell_type": "code",
   "execution_count": 9,
   "id": "55c5b939",
   "metadata": {},
   "outputs": [
    {
     "data": {
      "image/png": "[encoded data removed]",
      "text/plain": [
       "<Figure size 1000x500 with 1 Axes>"
      ]
     },
     "metadata": {},
     "output_type": "display_data"
    }
   ],
   "source": [
    "sns.set_palette(\"colorblind\")\n",
    "\n",
    "# Order the column names based on the number of NaN values in each\n",
    "sorted_column_names, sorted_nan_counts = sort_columns_by_data(column_names, nan_counts)\n",
    "sorted_nan_percentages = np.round(sorted_nan_counts/data.shape[0] * 100, 2)\n",
    "\n",
    "fig, ax = plt.subplots(figsize=(10,5))\n",
    "ax.set_title(f\"Missing Value Percentage in Each Column ({num_files} Files)\")\n",
    "ax.set_ylabel(\"Percentage\")\n",
    "ax.bar(sorted_column_names, sorted_nan_percentages)\n",
    "ax.tick_params(axis='x', labelrotation=90)\n",
    "plt.plot()\n",
    "plt.savefig(figures_path + \"NaN counts.png\", bbox_inches = \"tight\");"
   ]
  },
  {
   "cell_type": "markdown",
   "id": "3bd6d685",
   "metadata": {},
   "source": [
    "# Data Imputation\n",
    "\n",
    "Due to the high number of missing values in the dataset, it is necessary to perform *data imputation*. This involves estimating numerical values that can replace the missing values while maintaining the distriubition of each feature as well as the colinearities between features.\n",
    "\n",
    "## Methods of Imputation\n",
    "\n",
    "### 1. Mean/Median/Mode Imputation\n",
    "- **Description**: NaN values are replaced with the mean, median, or mode of the available data for the feature.\n",
    "- **Use Cases**: Applicable for numerical and categorical data.\n",
    "- **Pros**: Simple, easy to implement.\n",
    "- **Cons**: May distort the original distribution if missingness is not at random.\n",
    "\n",
    "### 2. Regression Imputation\n",
    "- **Description**: Predictive models (e.g., linear regression) are used to estimate missing values based on other variables in the dataset.\n",
    "- **Use Cases**: Suitable for cases where variables are correlated.\n",
    "- **Pros**: Captures relationships between variables.\n",
    "- **Cons**: Assumes linearity and may be sensitive to outliers.\n",
    "\n",
    "### 3. K-Nearest Neighbors (KNN) Imputation\n",
    "- **Description**: Missing values are imputed based on the values of their nearest neighbors in the feature space.\n",
    "- **Use Cases**: Effective for datasets with continuous features and well-defined distance metrics.\n",
    "- **Pros**: Preserves relationships in the data.\n",
    "- **Cons**: Computationally intensive for large datasets.\n",
    "\n",
    "### 4. Multiple Imputation\n",
    "- **Description**: Generates multiple plausible values for each missing data point, allowing for uncertainty estimation.\n",
    "- **Use Cases**: Useful when the assumption of missing completely at random (MCAR) is violated.\n",
    "- **Pros**: Accounts for variability and uncertainty.\n",
    "- **Cons**: Complexity increases with the number of imputations.\n",
    "\n",
    "### 5. Random Forest Imputation\n",
    "- **Description**: Utilizes a random forest algorithm to predict missing values based on other variables in the dataset.\n",
    "- **Use Cases**: Suitable for datasets with complex relationships and mixed data types.\n",
    "- **Pros**: Handles non-linearity and interactions well.\n",
    "- **Cons**: May overfit if not properly tuned.\n",
    "\n",
    "### 6. Expectation-Maximization (EM) Imputation\n",
    "- **Description**: Iterative algorithm that estimates missing values by maximizing the likelihood of observed data.\n",
    "- **Use Cases**: Effective for multivariate normal distributions and when missingness mechanisms are not known.\n",
    "- **Pros**: Flexible and can handle various types of missing data.\n",
    "- **Cons**: Convergence issues with high-dimensional data.\n"
   ]
  },
  {
   "cell_type": "code",
   "execution_count": 10,
   "id": "bf159fd0-a29d-4dcf-b253-04ece01b5145",
   "metadata": {},
   "outputs": [
    {
     "name": "stdout",
     "output_type": "stream",
     "text": [
      "p001146.psv\n",
      "0     88.0\n",
      "1     76.0\n",
      "2     72.0\n",
      "3     81.0\n",
      "4      NaN\n",
      "5     94.0\n",
      "6     80.0\n",
      "7     88.0\n",
      "8     78.0\n",
      "9     80.0\n",
      "10    86.0\n",
      "11    86.0\n",
      "12     NaN\n",
      "13     NaN\n",
      "14    75.0\n",
      "15    69.0\n",
      "16     NaN\n",
      "17    85.0\n",
      "18    83.0\n",
      "19    84.0\n",
      "20    73.0\n",
      "21    73.0\n",
      "22     NaN\n",
      "23    97.0\n",
      "Name: HR, dtype: float64\n"
     ]
    }
   ],
   "source": [
    "# Let us look at a random specific patient file\n",
    "\n",
    "# Change to empty strign to get random file\n",
    "specific_filename = \"p001146.psv\"\n",
    "\n",
    "# From training set A\n",
    "file_path = random.choice(os.listdir(training_setA_path)) if specific_filename == \"\" else specific_filename\n",
    "file_data = pd.read_csv(training_setA_path + \"/\" + file_path, sep='|')\n",
    "print(file_path)\n",
    "print(file_data['HR'])"
   ]
  },
  {
   "cell_type": "code",
   "execution_count": 11,
   "id": "45cc9fdb-213e-49df-a6a8-e03c77998a14",
   "metadata": {},
   "outputs": [
    {
     "name": "stdout",
     "output_type": "stream",
     "text": [
      "0     88.000000\n",
      "1     76.000000\n",
      "2     72.000000\n",
      "3     81.000000\n",
      "4     87.500000\n",
      "5     94.000000\n",
      "6     80.000000\n",
      "7     88.000000\n",
      "8     78.000000\n",
      "9     80.000000\n",
      "10    86.000000\n",
      "11    86.000000\n",
      "12    82.333333\n",
      "13    78.666667\n",
      "14    75.000000\n",
      "15    69.000000\n",
      "16    77.000000\n",
      "17    85.000000\n",
      "18    83.000000\n",
      "19    84.000000\n",
      "20    73.000000\n",
      "21    73.000000\n",
      "22    85.000000\n",
      "23    97.000000\n",
      "Name: HR, dtype: float64\n"
     ]
    }
   ],
   "source": [
    "# This linearly interpolates the Heart Rate values which could be sufficient\n",
    "imputed_data = impute_linear_interpolation(file_data, 'HR')\n",
    "\n",
    "print(imputed_data['HR'])"
   ]
  },
  {
   "cell_type": "code",
   "execution_count": 3,
   "id": "0e3b76a1",
   "metadata": {},
   "outputs": [
    {
     "data": {
      "text/plain": [
       "0        NaN\n",
       "1       19.0\n",
       "2       22.0\n",
       "3       30.0\n",
       "4       24.5\n",
       "        ... \n",
       "3699    16.0\n",
       "3700    17.0\n",
       "3701    18.0\n",
       "3702    14.0\n",
       "3703    18.0\n",
       "Name: Resp, Length: 3704, dtype: float64"
      ]
     },
     "execution_count": 3,
     "metadata": {},
     "output_type": "execute_result"
    }
   ],
   "source": [
    "df[\"Resp\"]"
   ]
  },
  {
   "cell_type": "code",
   "execution_count": 4,
   "id": "b94233c1",
   "metadata": {},
   "outputs": [
    {
     "data": {
      "text/plain": [
       "0       19.158406\n",
       "1       19.000000\n",
       "2       22.000000\n",
       "3       30.000000\n",
       "4       24.500000\n",
       "          ...    \n",
       "3699    16.000000\n",
       "3700    17.000000\n",
       "3701    18.000000\n",
       "3702    14.000000\n",
       "3703    18.000000\n",
       "Name: Resp, Length: 3704, dtype: float64"
      ]
     },
     "execution_count": 4,
     "metadata": {},
     "output_type": "execute_result"
    }
   ],
   "source": [
    "imputed_data = impute_forward_fill_last_recorded(df, \"Resp\")\n",
    "imputed_data[\"Resp\"]"
   ]
  },
  {
   "cell_type": "markdown",
   "id": "82d62ae4-06c2-4ba4-ad44-522c84fba1e4",
   "metadata": {},
   "source": [
    "## Data Exploration"
   ]
  },
  {
   "cell_type": "markdown",
   "id": "3b5e7e0f",
   "metadata": {},
   "source": [
    "### Data imbalance"
   ]
  },
  {
   "cell_type": "code",
   "execution_count": 57,
   "metadata": {},
   "outputs": [
    {
     "name": "stdout",
     "output_type": "stream",
     "text": [
      "Ratio SepsisLabel=0:SepsisLabel=1 is 3569:135\n"
     ]
    }
   ],
   "source": [
    "# Obtain the ratio SepsisLabel=0:SepsisLabel=1\n",
    "\n",
    "label_counts = df[\"SepsisLabel\"].value_counts()\n",
    "zero_count = label_counts[0.0] \n",
    "one_count = label_counts[1.0]\n",
    "\n",
    "divisor = math.gcd(zero_count, one_count)\n",
    "\n",
    "ratio = f\"{int(zero_count/divisor)}:{int(one_count/divisor)}\"\n",
    "\n",
    "print(f\"Ratio SepsisLabel=0:SepsisLabel=1 is {ratio}\")"
   ]
  },
  {
   "cell_type": "code",
   "execution_count": null,
   "id": "16420c68",
   "metadata": {},
   "outputs": [],
   "source": []
  },
  {
   "cell_type": "markdown",
   "id": "dd1fcad7",
   "metadata": {},
   "source": []
  }
 ],
 "metadata": {
  "kernelspec": {
   "display_name": "ADS",
   "language": "python",
   "name": "python3"
  },
  "language_info": {
   "codemirror_mode": {
    "name": "ipython",
    "version": 3
   },
   "file_extension": ".py",
   "mimetype": "text/x-python",
   "name": "python",
   "nbconvert_exporter": "python",
   "pygments_lexer": "ipython3",
   "version": "3.11.7"
  }
 },
 "nbformat": 4,
 "nbformat_minor": 5
}
