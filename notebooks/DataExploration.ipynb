{
 "cells": [
  {
   "cell_type": "code",
   "execution_count": 1,
   "id": "3e0a4406-e2d4-4a49-83b1-7d66bc61b2fb",
   "metadata": {},
   "outputs": [],
   "source": [
    "import os\n",
    "import sys\n",
    "import random\n",
    "import pandas as pd\n",
    "import numpy as np\n",
    "from scipy.linalg import toeplitz\n",
    "from copy import copy\n",
    "import hypertools as hyp\n",
    "# import matplotlib.pyplot as plt\n",
    "\n",
    "# Geniuses that worked on hypertools did not update certain package and thus it produces warnings (they break jupyter lab)\n",
    "import warnings\n",
    "warnings.filterwarnings(\"ignore\")\n",
    "\n",
    "# Comment out if you don't want to see all of the values being printed (i.e. default)\n",
    "from IPython.core.interactiveshell import InteractiveShell\n",
    "InteractiveShell.ast_node_interactivity = \"all\"\n",
    "\n",
    "current_dir = os.getcwd()\n",
    "# utils_path = os.path.join(current_dir, '..', 'utils')\n",
    "utils_path = os.path.join(current_dir, '../')\n",
    "utils_abs_path = os.path.abspath(utils_path)\n",
    "if utils_abs_path not in sys.path:\n",
    "    sys.path.append(utils_abs_path)\n",
    "\n",
    "import utils.get_data as get_data\n",
    "# from impute_methods import *\n",
    "from utils.impute_methods import impute_linear_interpolation\n",
    "\n",
    "DATA_PATH = get_data.get_dataset_abspath()\n",
    "\n",
    "training_setA_path = DATA_PATH + 'training_setA'\n",
    "training_setB_path = DATA_PATH + 'training_setB'"
   ]
  },
  {
   "cell_type": "code",
   "execution_count": 2,
   "id": "1db429f0-9ac1-4f08-922a-67575a3b17a2",
   "metadata": {},
   "outputs": [
    {
     "name": "stdout",
     "output_type": "stream",
     "text": [
      "20335/20336"
     ]
    }
   ],
   "source": [
    "# READS TRAINING SET A FILES\n",
    "nan_countsA = {}\n",
    "\n",
    "# List all files in the directory\n",
    "file_list = os.listdir(training_setA_path)\n",
    "\n",
    "# Given the number of files this loop is quite slow so do not execute this block needlessly\n",
    "c = 0\n",
    "for file_name in file_list:\n",
    "    if file_name.endswith(\".psv\"):\n",
    "        file_path = os.path.join(training_setA_path, file_name)\n",
    "        # Read the file\n",
    "        data = pd.read_csv(file_path, sep='|')\n",
    "        \n",
    "        # For the first file, initialize the dictionary with column names\n",
    "        if not nan_countsA:\n",
    "            for column in data.columns:\n",
    "                nan_countsA[column] = {\"nan\": 0, \"total\": 0}\n",
    "        \n",
    "        # Update NaN counts and total counts\n",
    "        for column in data.columns:\n",
    "            nan_countsA[column][\"nan\"] += data[column].isna().sum()\n",
    "            nan_countsA[column][\"total\"] += len(data)\n",
    "    print(f\"\\r{c}/{len(file_list)}\", end=\"\")\n",
    "    c += 1"
   ]
  },
  {
   "cell_type": "code",
   "execution_count": 3,
   "id": "284fe0fd-05e7-48cd-9108-2f52df9d2505",
   "metadata": {},
   "outputs": [
    {
     "name": "stdout",
     "output_type": "stream",
     "text": [
      "19999/20000"
     ]
    }
   ],
   "source": [
    "# READS TRAINING SET B FILES\n",
    "nan_countsB = {}\n",
    "\n",
    "# List all files in the directory\n",
    "file_list = os.listdir(training_setB_path)\n",
    "\n",
    "# Given the number of files this loop is quite slow so do not execute this block needlessly\n",
    "c = 0\n",
    "for file_name in file_list:\n",
    "    if file_name.endswith(\".psv\"):\n",
    "        file_path = os.path.join(training_setB_path, file_name)\n",
    "        # Read the file\n",
    "        data = pd.read_csv(file_path, sep='|')\n",
    "        \n",
    "        # For the first file, initialize the dictionary with column names\n",
    "        if not nan_countsB:\n",
    "            for column in data.columns:\n",
    "                nan_countsB[column] = {\"nan\": 0, \"total\": 0}\n",
    "        \n",
    "        # Update NaN counts and total counts\n",
    "        for column in data.columns:\n",
    "            nan_countsB[column][\"nan\"] += data[column].isna().sum()\n",
    "            nan_countsB[column][\"total\"] += len(data)\n",
    "    print(f\"\\r{c}/{len(file_list)}\", end=\"\")\n",
    "    c += 1"
   ]
  },
  {
   "cell_type": "code",
   "execution_count": 4,
   "id": "53f396cf-0b2d-4c36-8924-a61f06479364",
   "metadata": {},
   "outputs": [
    {
     "name": "stdout",
     "output_type": "stream",
     "text": [
      "Training Set A                                                        Training Set B\n",
      "Column          num of NaN  total  Percentage                   Column          num of NaN  total  Percentage \n",
      "_____________________________________________________________________________________________________________\n",
      "HR:                  61189 / 790215    7.74%                   |HR:                  92210 / 761995   12.10%\n",
      "O2Sat:               95079 / 790215   12.03%                   |O2Sat:              107657 / 761995   14.13%\n",
      "Temp:               523314 / 790215   66.22%                   |Temp:               503670 / 761995   66.10%\n",
      "SBP:                120201 / 790215   15.21%                   |SBP:                106064 / 761995   13.92%\n",
      "MAP:                 80858 / 790215   10.23%                   |MAP:                112412 / 761995   14.75%\n",
      "DBP:                380297 / 790215   48.13%                   |DBP:                106257 / 761995   13.94%\n",
      "Resp:                77258 / 790215    9.78%                   |Resp:               161077 / 761995   21.14%\n",
      "EtCO2:              790215 / 790215  100.00%                   |EtCO2:              704359 / 761995   92.44%\n",
      "BaseExcess:         707834 / 790215   89.57%                   |BaseExcess:         760231 / 761995   99.77%\n",
      "HCO3:               726598 / 790215   91.95%                   |HCO3:               760584 / 761995   99.81%\n",
      "FiO2:               678060 / 790215   85.81%                   |FiO2:               744785 / 761995   97.74%\n",
      "pH:                 699600 / 790215   88.53%                   |pH:                 745037 / 761995   97.77%\n",
      "PaCO2:              720927 / 790215   91.23%                   |PaCO2:              744982 / 761995   97.77%\n",
      "SaO2:               751055 / 790215   95.04%                   |SaO2:               747594 / 761995   98.11%\n",
      "AST:                778395 / 790215   98.50%                   |AST:                748632 / 761995   98.25%\n",
      "BUN:                725739 / 790215   91.84%                   |BUN:                719903 / 761995   94.48%\n",
      "Alkalinephos:       778683 / 790215   98.54%                   |Alkalinephos:       748586 / 761995   98.24%\n",
      "Calcium:            750897 / 790215   95.02%                   |Calcium:            709982 / 761995   93.17%\n",
      "Chloride:           724438 / 790215   91.68%                   |Chloride:           757306 / 761995   99.38%\n",
      "Creatinine:         737728 / 790215   93.36%                   |Creatinine:         719866 / 761995   94.47%\n",
      "Bilirubin_direct:   789033 / 790215   99.85%                   |Bilirubin_direct:   760187 / 761995   99.76%\n",
      "Glucose:            693559 / 790215   87.77%                   |Glucose:            593135 / 761995   77.84%\n",
      "Lactate:            763072 / 790215   96.57%                   |Lactate:            747692 / 761995   98.12%\n",
      "Magnesium:          728734 / 790215   92.22%                   |Magnesium:          725525 / 761995   95.21%\n",
      "Phosphate:          750319 / 790215   94.95%                   |Phosphate:          739590 / 761995   97.06%\n",
      "Potassium:          704379 / 790215   89.14%                   |Potassium:          703306 / 761995   92.30%\n",
      "Bilirubin_total:    780522 / 790215   98.77%                   |Bilirubin_total:    748547 / 761995   98.24%\n",
      "TroponinI:          789250 / 790215   99.88%                   |TroponinI:          748179 / 761995   98.19%\n",
      "Hct:                697157 / 790215   88.22%                   |Hct:                717620 / 761995   94.18%\n",
      "Hgb:                720394 / 790215   91.16%                   |Hgb:                717225 / 761995   94.12%\n",
      "PTT:                751909 / 790215   95.15%                   |PTT:                754602 / 761995   99.03%\n",
      "WBC:                730867 / 790215   92.49%                   |WBC:                721896 / 761995   94.74%\n",
      "Fibrinogen:         784185 / 790215   99.24%                   |Fibrinogen:         757783 / 761995   99.45%\n",
      "Platelets:          738716 / 790215   93.48%                   |Platelets:          721285 / 761995   94.66%\n",
      "Age:                     0 / 790215    0.00%                   |Age:                     0 / 761995    0.00%\n",
      "Gender:                  0 / 790215    0.00%                   |Gender:                  0 / 761995    0.00%\n",
      "Unit1:              386165 / 790215   48.87%                   |Unit1:              225795 / 761995   29.63%\n",
      "Unit2:              386165 / 790215   48.87%                   |Unit2:              225795 / 761995   29.63%\n",
      "HospAdmTime:             8 / 790215    0.00%                   |HospAdmTime:             0 / 761995    0.00%\n",
      "ICULOS:                  0 / 790215    0.00%                   |ICULOS:                  0 / 761995    0.00%\n",
      "SepsisLabel:             0 / 790215    0.00%                   |SepsisLabel:             0 / 761995    0.00%\n"
     ]
    }
   ],
   "source": [
    "heading = \"Training Set A\".ljust(70) + \"Training Set B\" +\\\n",
    "          \"\\n\" + \"Column\".ljust(16) + \"num of NaN\" + \"  total\" + \"  Percentage\".ljust(31) +\\\n",
    "                 \"Column\".ljust(16) + \"num of NaN\" + \"  total\" + \"  Percentage \" +\\\n",
    "          \"\\n\" + \"_\"*109\n",
    "print(heading)\n",
    "\n",
    "# Iterate through the dictionary and print the required format\n",
    "for itemsA, itemsB in zip(nan_countsA.items(), nan_countsB.items()):\n",
    "    columnA, countsA = itemsA[0], itemsA[1]\n",
    "    columnB, countsB = itemsB[0], itemsB[1]\n",
    "    nan_countA = countsA[\"nan\"]\n",
    "    total_countA = countsA[\"total\"]\n",
    "    percentage = (nan_countA / total_countA) * 100 if total_countA else 0\n",
    "    outputA = f\"{columnA}:\".ljust(17) + f\" {nan_countA} \".rjust(10) + f\"/ {total_countA}\".ljust(10) + f\"{percentage:6.2f}%\"\n",
    "\n",
    "    nan_countB = countsB[\"nan\"]\n",
    "    total_countB = countsB[\"total\"]\n",
    "    percentage = (nan_countB / total_countB) * 100 if total_countB else 0\n",
    "    outputB = f\"{columnB}:\".ljust(17) + f\" {nan_countB} \".rjust(10) + f\"/ {total_countB}\".ljust(10) + f\"{percentage:6.2f}%\"\n",
    "    \n",
    "    print(outputA + \"|\".rjust(20) + outputB)"
   ]
  },
  {
   "cell_type": "code",
   "execution_count": 5,
   "id": "bf159fd0-a29d-4dcf-b253-04ece01b5145",
   "metadata": {},
   "outputs": [
    {
     "name": "stdout",
     "output_type": "stream",
     "text": [
      "p001146.psv\n",
      "0     88.0\n",
      "1     76.0\n",
      "2     72.0\n",
      "3     81.0\n",
      "4      NaN\n",
      "5     94.0\n",
      "6     80.0\n",
      "7     88.0\n",
      "8     78.0\n",
      "9     80.0\n",
      "10    86.0\n",
      "11    86.0\n",
      "12     NaN\n",
      "13     NaN\n",
      "14    75.0\n",
      "15    69.0\n",
      "16     NaN\n",
      "17    85.0\n",
      "18    83.0\n",
      "19    84.0\n",
      "20    73.0\n",
      "21    73.0\n",
      "22     NaN\n",
      "23    97.0\n",
      "Name: HR, dtype: float64\n"
     ]
    }
   ],
   "source": [
    "# Let us look at a random specific patient file\n",
    "\n",
    "# Change to empty strign to get random file\n",
    "specific_filename = \"p001146.psv\"\n",
    "\n",
    "# From training set A\n",
    "file_path = random.choice(os.listdir(training_setA_path)) if specific_filename == \"\" else specific_filename\n",
    "file_data = pd.read_csv(training_setA_path + \"/\" + file_path, sep='|')\n",
    "print(file_path)\n",
    "print(file_data['HR'])"
   ]
  },
  {
   "cell_type": "code",
   "execution_count": 6,
   "id": "45cc9fdb-213e-49df-a6a8-e03c77998a14",
   "metadata": {},
   "outputs": [
    {
     "name": "stdout",
     "output_type": "stream",
     "text": [
      "0     88.000000\n",
      "1     76.000000\n",
      "2     72.000000\n",
      "3     81.000000\n",
      "4     87.500000\n",
      "5     94.000000\n",
      "6     80.000000\n",
      "7     88.000000\n",
      "8     78.000000\n",
      "9     80.000000\n",
      "10    86.000000\n",
      "11    86.000000\n",
      "12    82.333333\n",
      "13    78.666667\n",
      "14    75.000000\n",
      "15    69.000000\n",
      "16    77.000000\n",
      "17    85.000000\n",
      "18    83.000000\n",
      "19    84.000000\n",
      "20    73.000000\n",
      "21    73.000000\n",
      "22    85.000000\n",
      "23    97.000000\n",
      "Name: HR, dtype: float64\n"
     ]
    }
   ],
   "source": [
    "# This linearly interpolates the Heart Rate values which could be sufficient\n",
    "imputed_data = impute_linear_interpolation(file_data, 'HR')\n",
    "\n",
    "print(imputed_data['HR'])"
   ]
  }
 ],
 "metadata": {
  "kernelspec": {
   "display_name": "datascience",
   "language": "python",
   "name": "datascience"
  },
  "language_info": {
   "codemirror_mode": {
    "name": "ipython",
    "version": 3
   },
   "file_extension": ".py",
   "mimetype": "text/x-python",
   "name": "python",
   "nbconvert_exporter": "python",
   "pygments_lexer": "ipython3",
   "version": "3.11.8"
  }
 },
 "nbformat": 4,
 "nbformat_minor": 5
}
