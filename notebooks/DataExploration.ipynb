{
 "cells": [
  {
   "cell_type": "code",
   "execution_count": 8,
   "id": "3e0a4406-e2d4-4a49-83b1-7d66bc61b2fb",
   "metadata": {},
   "outputs": [],
   "source": [
    "import os\n",
    "import sys\n",
    "import random\n",
    "import pandas as pd\n",
    "import numpy as np\n",
    "# import matplotlib.pyplot as plt\n",
    "\n",
    "current_dir = os.getcwd()\n",
    "utils_path = os.path.join(current_dir, '..', 'utils')\n",
    "utils_abs_path = os.path.abspath(utils_path)\n",
    "\n",
    "if utils_abs_path not in sys.path:\n",
    "    sys.path.append(utils_abs_path)\n",
    "\n",
    "import get_data\n",
    "\n",
    "DATA_PATH = get_data.get_dataset_abspath()\n",
    "\n",
    "training_setA_path = DATA_PATH + 'training_setA'\n",
    "training_setB_path = DATA_PATH + 'training_setB'"
   ]
  },
  {
   "cell_type": "code",
   "execution_count": 5,
   "id": "1db429f0-9ac1-4f08-922a-67575a3b17a2",
   "metadata": {},
   "outputs": [
    {
     "name": "stdout",
     "output_type": "stream",
     "text": [
      "20335/20336"
     ]
    }
   ],
   "source": [
    "# READS TRAINING SET A FILES\n",
    "nan_countsA = {}\n",
    "\n",
    "# List all files in the directory\n",
    "file_list = os.listdir(training_setA_path)\n",
    "\n",
    "# Given the number of files this loop is quite slow so do not execute this block needlessly\n",
    "c = 0\n",
    "for file_name in file_list:\n",
    "    if file_name.endswith(\".psv\"):\n",
    "        file_path = os.path.join(training_setA_path, file_name)\n",
    "        # Read the file\n",
    "        data = pd.read_csv(file_path, sep='|')\n",
    "        \n",
    "        # For the first file, initialize the dictionary with column names\n",
    "        if not nan_countsA:\n",
    "            for column in data.columns:\n",
    "                nan_countsA[column] = {\"nan\": 0, \"total\": 0}\n",
    "        \n",
    "        # Update NaN counts and total counts\n",
    "        for column in data.columns:\n",
    "            nan_countsA[column][\"nan\"] += data[column].isna().sum()\n",
    "            nan_countsA[column][\"total\"] += len(data)\n",
    "    print(f\"\\r{c}/{len(file_list)}\", end=\"\")\n",
    "    c += 1"
   ]
  },
  {
   "cell_type": "code",
   "execution_count": 6,
   "id": "284fe0fd-05e7-48cd-9108-2f52df9d2505",
   "metadata": {},
   "outputs": [
    {
     "name": "stdout",
     "output_type": "stream",
     "text": [
      "19999/20000"
     ]
    }
   ],
   "source": [
    "# READS TRAINING SET B FILES\n",
    "nan_countsB = {}\n",
    "\n",
    "# List all files in the directory\n",
    "file_list = os.listdir(training_setB_path)\n",
    "\n",
    "# Given the number of files this loop is quite slow so do not execute this block needlessly\n",
    "c = 0\n",
    "for file_name in file_list:\n",
    "    if file_name.endswith(\".psv\"):\n",
    "        file_path = os.path.join(training_setB_path, file_name)\n",
    "        # Read the file\n",
    "        data = pd.read_csv(file_path, sep='|')\n",
    "        \n",
    "        # For the first file, initialize the dictionary with column names\n",
    "        if not nan_countsB:\n",
    "            for column in data.columns:\n",
    "                nan_countsB[column] = {\"nan\": 0, \"total\": 0}\n",
    "        \n",
    "        # Update NaN counts and total counts\n",
    "        for column in data.columns:\n",
    "            nan_countsB[column][\"nan\"] += data[column].isna().sum()\n",
    "            nan_countsB[column][\"total\"] += len(data)\n",
    "    print(f\"\\r{c}/{len(file_list)}\", end=\"\")\n",
    "    c += 1"
   ]
  },
  {
   "cell_type": "code",
   "execution_count": 4,
   "id": "53f396cf-0b2d-4c36-8924-a61f06479364",
   "metadata": {},
   "outputs": [
    {
     "name": "stdout",
     "output_type": "stream",
     "text": [
      "Training Set A                                                        Training Set B\n",
      "Column          num of NaN  total  Percentage                   Column          num of NaN  total  Percentage \n",
      "_____________________________________________________________________________________________________________\n",
      "HR:                  61189 / 790215    7.74%                   |HR:                  92210 / 761995   12.10%\n",
      "O2Sat:               95079 / 790215   12.03%                   |O2Sat:              107657 / 761995   14.13%\n",
      "Temp:               523314 / 790215   66.22%                   |Temp:               503670 / 761995   66.10%\n",
      "SBP:                120201 / 790215   15.21%                   |SBP:                106064 / 761995   13.92%\n",
      "MAP:                 80858 / 790215   10.23%                   |MAP:                112412 / 761995   14.75%\n",
      "DBP:                380297 / 790215   48.13%                   |DBP:                106257 / 761995   13.94%\n",
      "Resp:                77258 / 790215    9.78%                   |Resp:               161077 / 761995   21.14%\n",
      "EtCO2:              790215 / 790215  100.00%                   |EtCO2:              704359 / 761995   92.44%\n",
      "BaseExcess:         707834 / 790215   89.57%                   |BaseExcess:         760231 / 761995   99.77%\n",
      "HCO3:               726598 / 790215   91.95%                   |HCO3:               760584 / 761995   99.81%\n",
      "FiO2:               678060 / 790215   85.81%                   |FiO2:               744785 / 761995   97.74%\n",
      "pH:                 699600 / 790215   88.53%                   |pH:                 745037 / 761995   97.77%\n",
      "PaCO2:              720927 / 790215   91.23%                   |PaCO2:              744982 / 761995   97.77%\n",
      "SaO2:               751055 / 790215   95.04%                   |SaO2:               747594 / 761995   98.11%\n",
      "AST:                778395 / 790215   98.50%                   |AST:                748632 / 761995   98.25%\n",
      "BUN:                725739 / 790215   91.84%                   |BUN:                719903 / 761995   94.48%\n",
      "Alkalinephos:       778683 / 790215   98.54%                   |Alkalinephos:       748586 / 761995   98.24%\n",
      "Calcium:            750897 / 790215   95.02%                   |Calcium:            709982 / 761995   93.17%\n",
      "Chloride:           724438 / 790215   91.68%                   |Chloride:           757306 / 761995   99.38%\n",
      "Creatinine:         737728 / 790215   93.36%                   |Creatinine:         719866 / 761995   94.47%\n",
      "Bilirubin_direct:   789033 / 790215   99.85%                   |Bilirubin_direct:   760187 / 761995   99.76%\n",
      "Glucose:            693559 / 790215   87.77%                   |Glucose:            593135 / 761995   77.84%\n",
      "Lactate:            763072 / 790215   96.57%                   |Lactate:            747692 / 761995   98.12%\n",
      "Magnesium:          728734 / 790215   92.22%                   |Magnesium:          725525 / 761995   95.21%\n",
      "Phosphate:          750319 / 790215   94.95%                   |Phosphate:          739590 / 761995   97.06%\n",
      "Potassium:          704379 / 790215   89.14%                   |Potassium:          703306 / 761995   92.30%\n",
      "Bilirubin_total:    780522 / 790215   98.77%                   |Bilirubin_total:    748547 / 761995   98.24%\n",
      "TroponinI:          789250 / 790215   99.88%                   |TroponinI:          748179 / 761995   98.19%\n",
      "Hct:                697157 / 790215   88.22%                   |Hct:                717620 / 761995   94.18%\n",
      "Hgb:                720394 / 790215   91.16%                   |Hgb:                717225 / 761995   94.12%\n",
      "PTT:                751909 / 790215   95.15%                   |PTT:                754602 / 761995   99.03%\n",
      "WBC:                730867 / 790215   92.49%                   |WBC:                721896 / 761995   94.74%\n",
      "Fibrinogen:         784185 / 790215   99.24%                   |Fibrinogen:         757783 / 761995   99.45%\n",
      "Platelets:          738716 / 790215   93.48%                   |Platelets:          721285 / 761995   94.66%\n",
      "Age:                     0 / 790215    0.00%                   |Age:                     0 / 761995    0.00%\n",
      "Gender:                  0 / 790215    0.00%                   |Gender:                  0 / 761995    0.00%\n",
      "Unit1:              386165 / 790215   48.87%                   |Unit1:              225795 / 761995   29.63%\n",
      "Unit2:              386165 / 790215   48.87%                   |Unit2:              225795 / 761995   29.63%\n",
      "HospAdmTime:             8 / 790215    0.00%                   |HospAdmTime:             0 / 761995    0.00%\n",
      "ICULOS:                  0 / 790215    0.00%                   |ICULOS:                  0 / 761995    0.00%\n",
      "SepsisLabel:             0 / 790215    0.00%                   |SepsisLabel:             0 / 761995    0.00%\n"
     ]
    }
   ],
   "source": [
    "heading = \"Training Set A\".ljust(70) + \"Training Set B\" +\\\n",
    "          \"\\n\" + \"Column\".ljust(16) + \"num of NaN\" + \"  total\" + \"  Percentage\".ljust(31) +\\\n",
    "                 \"Column\".ljust(16) + \"num of NaN\" + \"  total\" + \"  Percentage \" +\\\n",
    "          \"\\n\" + \"_\"*109\n",
    "print(heading)\n",
    "\n",
    "# Iterate through the dictionary and print the required format\n",
    "for itemsA, itemsB in zip(nan_countsA.items(), nan_countsB.items()):\n",
    "    columnA, countsA = itemsA[0], itemsA[1]\n",
    "    columnB, countsB = itemsB[0], itemsB[1]\n",
    "    nan_countA = countsA[\"nan\"]\n",
    "    total_countA = countsA[\"total\"]\n",
    "    percentage = (nan_countA / total_countA) * 100 if total_countA else 0\n",
    "    outputA = f\"{columnA}:\".ljust(17) + f\" {nan_countA} \".rjust(10) + f\"/ {total_countA}\".ljust(10) + f\"{percentage:6.2f}%\"\n",
    "\n",
    "    nan_countB = countsB[\"nan\"]\n",
    "    total_countB = countsB[\"total\"]\n",
    "    percentage = (nan_countB / total_countB) * 100 if total_countB else 0\n",
    "    outputB = f\"{columnB}:\".ljust(17) + f\" {nan_countB} \".rjust(10) + f\"/ {total_countB}\".ljust(10) + f\"{percentage:6.2f}%\"\n",
    "    \n",
    "    print(outputA + \"|\".rjust(20) + outputB)"
   ]
  },
  {
   "cell_type": "code",
   "execution_count": 12,
   "id": "bf159fd0-a29d-4dcf-b253-04ece01b5145",
   "metadata": {},
   "outputs": [
    {
     "ename": "FileNotFoundError",
     "evalue": "[Errno 2] No such file or directory: '/home/martin/school_random/data_science/Early-Prediction-of-Sepsis/Dataset/training_setAp014402.psv'",
     "output_type": "error",
     "traceback": [
      "\u001b[0;31m---------------------------------------------------------------------------\u001b[0m",
      "\u001b[0;31mFileNotFoundError\u001b[0m                         Traceback (most recent call last)",
      "Cell \u001b[0;32mIn[12], line 5\u001b[0m\n\u001b[1;32m      1\u001b[0m \u001b[38;5;66;03m# Let us look at a random specific patient file\u001b[39;00m\n\u001b[1;32m      2\u001b[0m \n\u001b[1;32m      3\u001b[0m \u001b[38;5;66;03m# From training set A\u001b[39;00m\n\u001b[1;32m      4\u001b[0m file_path \u001b[38;5;241m=\u001b[39m random\u001b[38;5;241m.\u001b[39mchoice(os\u001b[38;5;241m.\u001b[39mlistdir(training_setA_path))\n\u001b[0;32m----> 5\u001b[0m file_data \u001b[38;5;241m=\u001b[39m \u001b[43mpd\u001b[49m\u001b[38;5;241;43m.\u001b[39;49m\u001b[43mread_csv\u001b[49m\u001b[43m(\u001b[49m\u001b[43mtraining_setA_path\u001b[49m\u001b[43m \u001b[49m\u001b[38;5;241;43m+\u001b[39;49m\u001b[43m \u001b[49m\u001b[43mfile_path\u001b[49m\u001b[43m,\u001b[49m\u001b[43m \u001b[49m\u001b[43msep\u001b[49m\u001b[38;5;241;43m=\u001b[39;49m\u001b[38;5;124;43m'\u001b[39;49m\u001b[38;5;124;43m|\u001b[39;49m\u001b[38;5;124;43m'\u001b[39;49m\u001b[43m)\u001b[49m\n\u001b[1;32m      6\u001b[0m \u001b[38;5;28mprint\u001b[39m(file_data)\n",
      "File \u001b[0;32m~/Downloads/yes/envs/datascience/lib/python3.11/site-packages/pandas/io/parsers/readers.py:1026\u001b[0m, in \u001b[0;36mread_csv\u001b[0;34m(filepath_or_buffer, sep, delimiter, header, names, index_col, usecols, dtype, engine, converters, true_values, false_values, skipinitialspace, skiprows, skipfooter, nrows, na_values, keep_default_na, na_filter, verbose, skip_blank_lines, parse_dates, infer_datetime_format, keep_date_col, date_parser, date_format, dayfirst, cache_dates, iterator, chunksize, compression, thousands, decimal, lineterminator, quotechar, quoting, doublequote, escapechar, comment, encoding, encoding_errors, dialect, on_bad_lines, delim_whitespace, low_memory, memory_map, float_precision, storage_options, dtype_backend)\u001b[0m\n\u001b[1;32m   1013\u001b[0m kwds_defaults \u001b[38;5;241m=\u001b[39m _refine_defaults_read(\n\u001b[1;32m   1014\u001b[0m     dialect,\n\u001b[1;32m   1015\u001b[0m     delimiter,\n\u001b[0;32m   (...)\u001b[0m\n\u001b[1;32m   1022\u001b[0m     dtype_backend\u001b[38;5;241m=\u001b[39mdtype_backend,\n\u001b[1;32m   1023\u001b[0m )\n\u001b[1;32m   1024\u001b[0m kwds\u001b[38;5;241m.\u001b[39mupdate(kwds_defaults)\n\u001b[0;32m-> 1026\u001b[0m \u001b[38;5;28;01mreturn\u001b[39;00m \u001b[43m_read\u001b[49m\u001b[43m(\u001b[49m\u001b[43mfilepath_or_buffer\u001b[49m\u001b[43m,\u001b[49m\u001b[43m \u001b[49m\u001b[43mkwds\u001b[49m\u001b[43m)\u001b[49m\n",
      "File \u001b[0;32m~/Downloads/yes/envs/datascience/lib/python3.11/site-packages/pandas/io/parsers/readers.py:620\u001b[0m, in \u001b[0;36m_read\u001b[0;34m(filepath_or_buffer, kwds)\u001b[0m\n\u001b[1;32m    617\u001b[0m _validate_names(kwds\u001b[38;5;241m.\u001b[39mget(\u001b[38;5;124m\"\u001b[39m\u001b[38;5;124mnames\u001b[39m\u001b[38;5;124m\"\u001b[39m, \u001b[38;5;28;01mNone\u001b[39;00m))\n\u001b[1;32m    619\u001b[0m \u001b[38;5;66;03m# Create the parser.\u001b[39;00m\n\u001b[0;32m--> 620\u001b[0m parser \u001b[38;5;241m=\u001b[39m \u001b[43mTextFileReader\u001b[49m\u001b[43m(\u001b[49m\u001b[43mfilepath_or_buffer\u001b[49m\u001b[43m,\u001b[49m\u001b[43m \u001b[49m\u001b[38;5;241;43m*\u001b[39;49m\u001b[38;5;241;43m*\u001b[39;49m\u001b[43mkwds\u001b[49m\u001b[43m)\u001b[49m\n\u001b[1;32m    622\u001b[0m \u001b[38;5;28;01mif\u001b[39;00m chunksize \u001b[38;5;129;01mor\u001b[39;00m iterator:\n\u001b[1;32m    623\u001b[0m     \u001b[38;5;28;01mreturn\u001b[39;00m parser\n",
      "File \u001b[0;32m~/Downloads/yes/envs/datascience/lib/python3.11/site-packages/pandas/io/parsers/readers.py:1620\u001b[0m, in \u001b[0;36mTextFileReader.__init__\u001b[0;34m(self, f, engine, **kwds)\u001b[0m\n\u001b[1;32m   1617\u001b[0m     \u001b[38;5;28mself\u001b[39m\u001b[38;5;241m.\u001b[39moptions[\u001b[38;5;124m\"\u001b[39m\u001b[38;5;124mhas_index_names\u001b[39m\u001b[38;5;124m\"\u001b[39m] \u001b[38;5;241m=\u001b[39m kwds[\u001b[38;5;124m\"\u001b[39m\u001b[38;5;124mhas_index_names\u001b[39m\u001b[38;5;124m\"\u001b[39m]\n\u001b[1;32m   1619\u001b[0m \u001b[38;5;28mself\u001b[39m\u001b[38;5;241m.\u001b[39mhandles: IOHandles \u001b[38;5;241m|\u001b[39m \u001b[38;5;28;01mNone\u001b[39;00m \u001b[38;5;241m=\u001b[39m \u001b[38;5;28;01mNone\u001b[39;00m\n\u001b[0;32m-> 1620\u001b[0m \u001b[38;5;28mself\u001b[39m\u001b[38;5;241m.\u001b[39m_engine \u001b[38;5;241m=\u001b[39m \u001b[38;5;28;43mself\u001b[39;49m\u001b[38;5;241;43m.\u001b[39;49m\u001b[43m_make_engine\u001b[49m\u001b[43m(\u001b[49m\u001b[43mf\u001b[49m\u001b[43m,\u001b[49m\u001b[43m \u001b[49m\u001b[38;5;28;43mself\u001b[39;49m\u001b[38;5;241;43m.\u001b[39;49m\u001b[43mengine\u001b[49m\u001b[43m)\u001b[49m\n",
      "File \u001b[0;32m~/Downloads/yes/envs/datascience/lib/python3.11/site-packages/pandas/io/parsers/readers.py:1880\u001b[0m, in \u001b[0;36mTextFileReader._make_engine\u001b[0;34m(self, f, engine)\u001b[0m\n\u001b[1;32m   1878\u001b[0m     \u001b[38;5;28;01mif\u001b[39;00m \u001b[38;5;124m\"\u001b[39m\u001b[38;5;124mb\u001b[39m\u001b[38;5;124m\"\u001b[39m \u001b[38;5;129;01mnot\u001b[39;00m \u001b[38;5;129;01min\u001b[39;00m mode:\n\u001b[1;32m   1879\u001b[0m         mode \u001b[38;5;241m+\u001b[39m\u001b[38;5;241m=\u001b[39m \u001b[38;5;124m\"\u001b[39m\u001b[38;5;124mb\u001b[39m\u001b[38;5;124m\"\u001b[39m\n\u001b[0;32m-> 1880\u001b[0m \u001b[38;5;28mself\u001b[39m\u001b[38;5;241m.\u001b[39mhandles \u001b[38;5;241m=\u001b[39m \u001b[43mget_handle\u001b[49m\u001b[43m(\u001b[49m\n\u001b[1;32m   1881\u001b[0m \u001b[43m    \u001b[49m\u001b[43mf\u001b[49m\u001b[43m,\u001b[49m\n\u001b[1;32m   1882\u001b[0m \u001b[43m    \u001b[49m\u001b[43mmode\u001b[49m\u001b[43m,\u001b[49m\n\u001b[1;32m   1883\u001b[0m \u001b[43m    \u001b[49m\u001b[43mencoding\u001b[49m\u001b[38;5;241;43m=\u001b[39;49m\u001b[38;5;28;43mself\u001b[39;49m\u001b[38;5;241;43m.\u001b[39;49m\u001b[43moptions\u001b[49m\u001b[38;5;241;43m.\u001b[39;49m\u001b[43mget\u001b[49m\u001b[43m(\u001b[49m\u001b[38;5;124;43m\"\u001b[39;49m\u001b[38;5;124;43mencoding\u001b[39;49m\u001b[38;5;124;43m\"\u001b[39;49m\u001b[43m,\u001b[49m\u001b[43m \u001b[49m\u001b[38;5;28;43;01mNone\u001b[39;49;00m\u001b[43m)\u001b[49m\u001b[43m,\u001b[49m\n\u001b[1;32m   1884\u001b[0m \u001b[43m    \u001b[49m\u001b[43mcompression\u001b[49m\u001b[38;5;241;43m=\u001b[39;49m\u001b[38;5;28;43mself\u001b[39;49m\u001b[38;5;241;43m.\u001b[39;49m\u001b[43moptions\u001b[49m\u001b[38;5;241;43m.\u001b[39;49m\u001b[43mget\u001b[49m\u001b[43m(\u001b[49m\u001b[38;5;124;43m\"\u001b[39;49m\u001b[38;5;124;43mcompression\u001b[39;49m\u001b[38;5;124;43m\"\u001b[39;49m\u001b[43m,\u001b[49m\u001b[43m \u001b[49m\u001b[38;5;28;43;01mNone\u001b[39;49;00m\u001b[43m)\u001b[49m\u001b[43m,\u001b[49m\n\u001b[1;32m   1885\u001b[0m \u001b[43m    \u001b[49m\u001b[43mmemory_map\u001b[49m\u001b[38;5;241;43m=\u001b[39;49m\u001b[38;5;28;43mself\u001b[39;49m\u001b[38;5;241;43m.\u001b[39;49m\u001b[43moptions\u001b[49m\u001b[38;5;241;43m.\u001b[39;49m\u001b[43mget\u001b[49m\u001b[43m(\u001b[49m\u001b[38;5;124;43m\"\u001b[39;49m\u001b[38;5;124;43mmemory_map\u001b[39;49m\u001b[38;5;124;43m\"\u001b[39;49m\u001b[43m,\u001b[49m\u001b[43m \u001b[49m\u001b[38;5;28;43;01mFalse\u001b[39;49;00m\u001b[43m)\u001b[49m\u001b[43m,\u001b[49m\n\u001b[1;32m   1886\u001b[0m \u001b[43m    \u001b[49m\u001b[43mis_text\u001b[49m\u001b[38;5;241;43m=\u001b[39;49m\u001b[43mis_text\u001b[49m\u001b[43m,\u001b[49m\n\u001b[1;32m   1887\u001b[0m \u001b[43m    \u001b[49m\u001b[43merrors\u001b[49m\u001b[38;5;241;43m=\u001b[39;49m\u001b[38;5;28;43mself\u001b[39;49m\u001b[38;5;241;43m.\u001b[39;49m\u001b[43moptions\u001b[49m\u001b[38;5;241;43m.\u001b[39;49m\u001b[43mget\u001b[49m\u001b[43m(\u001b[49m\u001b[38;5;124;43m\"\u001b[39;49m\u001b[38;5;124;43mencoding_errors\u001b[39;49m\u001b[38;5;124;43m\"\u001b[39;49m\u001b[43m,\u001b[49m\u001b[43m \u001b[49m\u001b[38;5;124;43m\"\u001b[39;49m\u001b[38;5;124;43mstrict\u001b[39;49m\u001b[38;5;124;43m\"\u001b[39;49m\u001b[43m)\u001b[49m\u001b[43m,\u001b[49m\n\u001b[1;32m   1888\u001b[0m \u001b[43m    \u001b[49m\u001b[43mstorage_options\u001b[49m\u001b[38;5;241;43m=\u001b[39;49m\u001b[38;5;28;43mself\u001b[39;49m\u001b[38;5;241;43m.\u001b[39;49m\u001b[43moptions\u001b[49m\u001b[38;5;241;43m.\u001b[39;49m\u001b[43mget\u001b[49m\u001b[43m(\u001b[49m\u001b[38;5;124;43m\"\u001b[39;49m\u001b[38;5;124;43mstorage_options\u001b[39;49m\u001b[38;5;124;43m\"\u001b[39;49m\u001b[43m,\u001b[49m\u001b[43m \u001b[49m\u001b[38;5;28;43;01mNone\u001b[39;49;00m\u001b[43m)\u001b[49m\u001b[43m,\u001b[49m\n\u001b[1;32m   1889\u001b[0m \u001b[43m\u001b[49m\u001b[43m)\u001b[49m\n\u001b[1;32m   1890\u001b[0m \u001b[38;5;28;01massert\u001b[39;00m \u001b[38;5;28mself\u001b[39m\u001b[38;5;241m.\u001b[39mhandles \u001b[38;5;129;01mis\u001b[39;00m \u001b[38;5;129;01mnot\u001b[39;00m \u001b[38;5;28;01mNone\u001b[39;00m\n\u001b[1;32m   1891\u001b[0m f \u001b[38;5;241m=\u001b[39m \u001b[38;5;28mself\u001b[39m\u001b[38;5;241m.\u001b[39mhandles\u001b[38;5;241m.\u001b[39mhandle\n",
      "File \u001b[0;32m~/Downloads/yes/envs/datascience/lib/python3.11/site-packages/pandas/io/common.py:873\u001b[0m, in \u001b[0;36mget_handle\u001b[0;34m(path_or_buf, mode, encoding, compression, memory_map, is_text, errors, storage_options)\u001b[0m\n\u001b[1;32m    868\u001b[0m \u001b[38;5;28;01melif\u001b[39;00m \u001b[38;5;28misinstance\u001b[39m(handle, \u001b[38;5;28mstr\u001b[39m):\n\u001b[1;32m    869\u001b[0m     \u001b[38;5;66;03m# Check whether the filename is to be opened in binary mode.\u001b[39;00m\n\u001b[1;32m    870\u001b[0m     \u001b[38;5;66;03m# Binary mode does not support 'encoding' and 'newline'.\u001b[39;00m\n\u001b[1;32m    871\u001b[0m     \u001b[38;5;28;01mif\u001b[39;00m ioargs\u001b[38;5;241m.\u001b[39mencoding \u001b[38;5;129;01mand\u001b[39;00m \u001b[38;5;124m\"\u001b[39m\u001b[38;5;124mb\u001b[39m\u001b[38;5;124m\"\u001b[39m \u001b[38;5;129;01mnot\u001b[39;00m \u001b[38;5;129;01min\u001b[39;00m ioargs\u001b[38;5;241m.\u001b[39mmode:\n\u001b[1;32m    872\u001b[0m         \u001b[38;5;66;03m# Encoding\u001b[39;00m\n\u001b[0;32m--> 873\u001b[0m         handle \u001b[38;5;241m=\u001b[39m \u001b[38;5;28mopen\u001b[39m(\n\u001b[1;32m    874\u001b[0m             handle,\n\u001b[1;32m    875\u001b[0m             ioargs\u001b[38;5;241m.\u001b[39mmode,\n\u001b[1;32m    876\u001b[0m             encoding\u001b[38;5;241m=\u001b[39mioargs\u001b[38;5;241m.\u001b[39mencoding,\n\u001b[1;32m    877\u001b[0m             errors\u001b[38;5;241m=\u001b[39merrors,\n\u001b[1;32m    878\u001b[0m             newline\u001b[38;5;241m=\u001b[39m\u001b[38;5;124m\"\u001b[39m\u001b[38;5;124m\"\u001b[39m,\n\u001b[1;32m    879\u001b[0m         )\n\u001b[1;32m    880\u001b[0m     \u001b[38;5;28;01melse\u001b[39;00m:\n\u001b[1;32m    881\u001b[0m         \u001b[38;5;66;03m# Binary mode\u001b[39;00m\n\u001b[1;32m    882\u001b[0m         handle \u001b[38;5;241m=\u001b[39m \u001b[38;5;28mopen\u001b[39m(handle, ioargs\u001b[38;5;241m.\u001b[39mmode)\n",
      "\u001b[0;31mFileNotFoundError\u001b[0m: [Errno 2] No such file or directory: '/home/martin/school_random/data_science/Early-Prediction-of-Sepsis/Dataset/training_setAp014402.psv'"
     ]
    }
   ],
   "source": [
    "# Let us look at a random specific patient file\n",
    "\n",
    "# From training set A\n",
    "file_path = random.choice(os.listdir(training_setA_path))\n",
    "file_data = pd.read_csv(training_setA_path + \"/\" + file_path, sep='|')\n",
    "print(file_data)"
   ]
  },
  {
   "cell_type": "code",
   "execution_count": null,
   "id": "45cc9fdb-213e-49df-a6a8-e03c77998a14",
   "metadata": {},
   "outputs": [],
   "source": []
  }
 ],
 "metadata": {
  "kernelspec": {
   "display_name": "datascience",
   "language": "python",
   "name": "datascience"
  },
  "language_info": {
   "codemirror_mode": {
    "name": "ipython",
    "version": 3
   },
   "file_extension": ".py",
   "mimetype": "text/x-python",
   "name": "python",
   "nbconvert_exporter": "python",
   "pygments_lexer": "ipython3",
   "version": "3.11.8"
  }
 },
 "nbformat": 4,
 "nbformat_minor": 5
}
