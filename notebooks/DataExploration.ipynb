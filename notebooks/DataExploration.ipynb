{
 "cells": [
  {
   "cell_type": "code",
   "execution_count": 1,
   "id": "3e0a4406-e2d4-4a49-83b1-7d66bc61b2fb",
   "metadata": {},
   "outputs": [
    {
     "ename": "ImportError",
     "evalue": "libtiff.so.5: cannot open shared object file: No such file or directory",
     "output_type": "error",
     "traceback": [
      "\u001b[0;31m---------------------------------------------------------------------------\u001b[0m",
      "\u001b[0;31mImportError\u001b[0m                               Traceback (most recent call last)",
      "Cell \u001b[0;32mIn[1], line 8\u001b[0m\n\u001b[1;32m      6\u001b[0m \u001b[38;5;28;01mfrom\u001b[39;00m \u001b[38;5;21;01mscipy\u001b[39;00m\u001b[38;5;21;01m.\u001b[39;00m\u001b[38;5;21;01mlinalg\u001b[39;00m \u001b[38;5;28;01mimport\u001b[39;00m toeplitz\n\u001b[1;32m      7\u001b[0m \u001b[38;5;28;01mfrom\u001b[39;00m \u001b[38;5;21;01mcopy\u001b[39;00m \u001b[38;5;28;01mimport\u001b[39;00m copy\n\u001b[0;32m----> 8\u001b[0m \u001b[38;5;28;01mimport\u001b[39;00m \u001b[38;5;21;01mhypertools\u001b[39;00m \u001b[38;5;28;01mas\u001b[39;00m \u001b[38;5;21;01mhyp\u001b[39;00m\n\u001b[1;32m      9\u001b[0m \u001b[38;5;66;03m# import matplotlib.pyplot as plt\u001b[39;00m\n\u001b[1;32m     10\u001b[0m \n\u001b[1;32m     11\u001b[0m \u001b[38;5;66;03m# Comment out if you don't want to see all of the values being printed (i.e. default)\u001b[39;00m\n\u001b[1;32m     12\u001b[0m \u001b[38;5;28;01mfrom\u001b[39;00m \u001b[38;5;21;01mIPython\u001b[39;00m\u001b[38;5;21;01m.\u001b[39;00m\u001b[38;5;21;01mcore\u001b[39;00m\u001b[38;5;21;01m.\u001b[39;00m\u001b[38;5;21;01minteractiveshell\u001b[39;00m \u001b[38;5;28;01mimport\u001b[39;00m InteractiveShell\n",
      "File \u001b[0;32m~/Downloads/yes/envs/datascience/lib/python3.11/site-packages/hypertools/__init__.py:3\u001b[0m\n\u001b[1;32m      1\u001b[0m \u001b[38;5;66;03m#!/usr/bin/env python\u001b[39;00m\n\u001b[1;32m      2\u001b[0m \u001b[38;5;28;01mfrom\u001b[39;00m \u001b[38;5;21;01m.\u001b[39;00m\u001b[38;5;21;01mconfig\u001b[39;00m \u001b[38;5;28;01mimport\u001b[39;00m __version__\n\u001b[0;32m----> 3\u001b[0m \u001b[38;5;28;01mfrom\u001b[39;00m \u001b[38;5;21;01m.\u001b[39;00m\u001b[38;5;21;01mplot\u001b[39;00m\u001b[38;5;21;01m.\u001b[39;00m\u001b[38;5;21;01mplot\u001b[39;00m \u001b[38;5;28;01mimport\u001b[39;00m plot\n\u001b[1;32m      4\u001b[0m \u001b[38;5;28;01mfrom\u001b[39;00m \u001b[38;5;21;01m.\u001b[39;00m\u001b[38;5;21;01mplot\u001b[39;00m\u001b[38;5;21;01m.\u001b[39;00m\u001b[38;5;21;01mbackend\u001b[39;00m \u001b[38;5;28;01mimport\u001b[39;00m set_interactive_backend\n\u001b[1;32m      5\u001b[0m \u001b[38;5;28;01mfrom\u001b[39;00m \u001b[38;5;21;01m.\u001b[39;00m\u001b[38;5;21;01mtools\u001b[39;00m\u001b[38;5;21;01m.\u001b[39;00m\u001b[38;5;21;01mload\u001b[39;00m \u001b[38;5;28;01mimport\u001b[39;00m load\n",
      "File \u001b[0;32m~/Downloads/yes/envs/datascience/lib/python3.11/site-packages/hypertools/plot/__init__.py:3\u001b[0m\n\u001b[1;32m      1\u001b[0m \u001b[38;5;66;03m#!/usr/bin/env python\u001b[39;00m\n\u001b[1;32m      2\u001b[0m \u001b[38;5;28;01mimport\u001b[39;00m \u001b[38;5;21;01mwarnings\u001b[39;00m\n\u001b[0;32m----> 3\u001b[0m \u001b[38;5;28;01mimport\u001b[39;00m \u001b[38;5;21;01mmatplotlib\u001b[39;00m \u001b[38;5;28;01mas\u001b[39;00m \u001b[38;5;21;01mmpl\u001b[39;00m\n\u001b[1;32m      5\u001b[0m \u001b[38;5;28;01mfrom\u001b[39;00m \u001b[38;5;21;01m.\u001b[39;00m\u001b[38;5;21;01mbackend\u001b[39;00m \u001b[38;5;28;01mimport\u001b[39;00m _init_backend\n\u001b[1;32m      8\u001b[0m _init_backend()\n",
      "File \u001b[0;32m~/Downloads/yes/envs/datascience/lib/python3.11/site-packages/matplotlib/__init__.py:161\u001b[0m\n\u001b[1;32m    157\u001b[0m \u001b[38;5;28;01mfrom\u001b[39;00m \u001b[38;5;21;01mpackaging\u001b[39;00m\u001b[38;5;21;01m.\u001b[39;00m\u001b[38;5;21;01mversion\u001b[39;00m \u001b[38;5;28;01mimport\u001b[39;00m parse \u001b[38;5;28;01mas\u001b[39;00m parse_version\n\u001b[1;32m    159\u001b[0m \u001b[38;5;66;03m# cbook must import matplotlib only within function\u001b[39;00m\n\u001b[1;32m    160\u001b[0m \u001b[38;5;66;03m# definitions, so it is safe to import from it here.\u001b[39;00m\n\u001b[0;32m--> 161\u001b[0m \u001b[38;5;28;01mfrom\u001b[39;00m \u001b[38;5;21;01m.\u001b[39;00m \u001b[38;5;28;01mimport\u001b[39;00m _api, _version, cbook, _docstring, rcsetup\n\u001b[1;32m    162\u001b[0m \u001b[38;5;28;01mfrom\u001b[39;00m \u001b[38;5;21;01mmatplotlib\u001b[39;00m\u001b[38;5;21;01m.\u001b[39;00m\u001b[38;5;21;01mcbook\u001b[39;00m \u001b[38;5;28;01mimport\u001b[39;00m sanitize_sequence\n\u001b[1;32m    163\u001b[0m \u001b[38;5;28;01mfrom\u001b[39;00m \u001b[38;5;21;01mmatplotlib\u001b[39;00m\u001b[38;5;21;01m.\u001b[39;00m\u001b[38;5;21;01m_api\u001b[39;00m \u001b[38;5;28;01mimport\u001b[39;00m MatplotlibDeprecationWarning\n",
      "File \u001b[0;32m~/Downloads/yes/envs/datascience/lib/python3.11/site-packages/matplotlib/rcsetup.py:27\u001b[0m\n\u001b[1;32m     25\u001b[0m \u001b[38;5;28;01mfrom\u001b[39;00m \u001b[38;5;21;01mmatplotlib\u001b[39;00m \u001b[38;5;28;01mimport\u001b[39;00m _api, cbook\n\u001b[1;32m     26\u001b[0m \u001b[38;5;28;01mfrom\u001b[39;00m \u001b[38;5;21;01mmatplotlib\u001b[39;00m\u001b[38;5;21;01m.\u001b[39;00m\u001b[38;5;21;01mcbook\u001b[39;00m \u001b[38;5;28;01mimport\u001b[39;00m ls_mapper\n\u001b[0;32m---> 27\u001b[0m \u001b[38;5;28;01mfrom\u001b[39;00m \u001b[38;5;21;01mmatplotlib\u001b[39;00m\u001b[38;5;21;01m.\u001b[39;00m\u001b[38;5;21;01mcolors\u001b[39;00m \u001b[38;5;28;01mimport\u001b[39;00m Colormap, is_color_like\n\u001b[1;32m     28\u001b[0m \u001b[38;5;28;01mfrom\u001b[39;00m \u001b[38;5;21;01mmatplotlib\u001b[39;00m\u001b[38;5;21;01m.\u001b[39;00m\u001b[38;5;21;01m_fontconfig_pattern\u001b[39;00m \u001b[38;5;28;01mimport\u001b[39;00m parse_fontconfig_pattern\n\u001b[1;32m     29\u001b[0m \u001b[38;5;28;01mfrom\u001b[39;00m \u001b[38;5;21;01mmatplotlib\u001b[39;00m\u001b[38;5;21;01m.\u001b[39;00m\u001b[38;5;21;01m_enums\u001b[39;00m \u001b[38;5;28;01mimport\u001b[39;00m JoinStyle, CapStyle\n",
      "File \u001b[0;32m~/Downloads/yes/envs/datascience/lib/python3.11/site-packages/matplotlib/colors.py:52\u001b[0m\n\u001b[1;32m     49\u001b[0m \u001b[38;5;28;01mfrom\u001b[39;00m \u001b[38;5;21;01mnumbers\u001b[39;00m \u001b[38;5;28;01mimport\u001b[39;00m Real\n\u001b[1;32m     50\u001b[0m \u001b[38;5;28;01mimport\u001b[39;00m \u001b[38;5;21;01mre\u001b[39;00m\n\u001b[0;32m---> 52\u001b[0m \u001b[38;5;28;01mfrom\u001b[39;00m \u001b[38;5;21;01mPIL\u001b[39;00m \u001b[38;5;28;01mimport\u001b[39;00m Image\n\u001b[1;32m     53\u001b[0m \u001b[38;5;28;01mfrom\u001b[39;00m \u001b[38;5;21;01mPIL\u001b[39;00m\u001b[38;5;21;01m.\u001b[39;00m\u001b[38;5;21;01mPngImagePlugin\u001b[39;00m \u001b[38;5;28;01mimport\u001b[39;00m PngInfo\n\u001b[1;32m     55\u001b[0m \u001b[38;5;28;01mimport\u001b[39;00m \u001b[38;5;21;01mmatplotlib\u001b[39;00m \u001b[38;5;28;01mas\u001b[39;00m \u001b[38;5;21;01mmpl\u001b[39;00m\n",
      "File \u001b[0;32m~/Downloads/yes/envs/datascience/lib/python3.11/site-packages/PIL/Image.py:84\u001b[0m\n\u001b[1;32m     75\u001b[0m MAX_IMAGE_PIXELS \u001b[38;5;241m=\u001b[39m \u001b[38;5;28mint\u001b[39m(\u001b[38;5;241m1024\u001b[39m \u001b[38;5;241m*\u001b[39m \u001b[38;5;241m1024\u001b[39m \u001b[38;5;241m*\u001b[39m \u001b[38;5;241m1024\u001b[39m \u001b[38;5;241m/\u001b[39m\u001b[38;5;241m/\u001b[39m \u001b[38;5;241m4\u001b[39m \u001b[38;5;241m/\u001b[39m\u001b[38;5;241m/\u001b[39m \u001b[38;5;241m3\u001b[39m)\n\u001b[1;32m     78\u001b[0m \u001b[38;5;28;01mtry\u001b[39;00m:\n\u001b[1;32m     79\u001b[0m     \u001b[38;5;66;03m# If the _imaging C module is not present, Pillow will not load.\u001b[39;00m\n\u001b[1;32m     80\u001b[0m     \u001b[38;5;66;03m# Note that other modules should not refer to _imaging directly;\u001b[39;00m\n\u001b[1;32m     81\u001b[0m     \u001b[38;5;66;03m# import Image and use the Image.core variable instead.\u001b[39;00m\n\u001b[1;32m     82\u001b[0m     \u001b[38;5;66;03m# Also note that Image.core is not a publicly documented interface,\u001b[39;00m\n\u001b[1;32m     83\u001b[0m     \u001b[38;5;66;03m# and should be considered private and subject to change.\u001b[39;00m\n\u001b[0;32m---> 84\u001b[0m     \u001b[38;5;28;01mfrom\u001b[39;00m \u001b[38;5;21;01m.\u001b[39;00m \u001b[38;5;28;01mimport\u001b[39;00m _imaging \u001b[38;5;28;01mas\u001b[39;00m core\n\u001b[1;32m     86\u001b[0m     \u001b[38;5;28;01mif\u001b[39;00m __version__ \u001b[38;5;241m!=\u001b[39m \u001b[38;5;28mgetattr\u001b[39m(core, \u001b[38;5;124m\"\u001b[39m\u001b[38;5;124mPILLOW_VERSION\u001b[39m\u001b[38;5;124m\"\u001b[39m, \u001b[38;5;28;01mNone\u001b[39;00m):\n\u001b[1;32m     87\u001b[0m         msg \u001b[38;5;241m=\u001b[39m (\n\u001b[1;32m     88\u001b[0m             \u001b[38;5;124m\"\u001b[39m\u001b[38;5;124mThe _imaging extension was built for another version of Pillow or PIL:\u001b[39m\u001b[38;5;130;01m\\n\u001b[39;00m\u001b[38;5;124m\"\u001b[39m\n\u001b[1;32m     89\u001b[0m             \u001b[38;5;124mf\u001b[39m\u001b[38;5;124m\"\u001b[39m\u001b[38;5;124mCore version: \u001b[39m\u001b[38;5;132;01m{\u001b[39;00m\u001b[38;5;28mgetattr\u001b[39m(core,\u001b[38;5;250m \u001b[39m\u001b[38;5;124m'\u001b[39m\u001b[38;5;124mPILLOW_VERSION\u001b[39m\u001b[38;5;124m'\u001b[39m,\u001b[38;5;250m \u001b[39m\u001b[38;5;28;01mNone\u001b[39;00m)\u001b[38;5;132;01m}\u001b[39;00m\u001b[38;5;130;01m\\n\u001b[39;00m\u001b[38;5;124m\"\u001b[39m\n\u001b[1;32m     90\u001b[0m             \u001b[38;5;124mf\u001b[39m\u001b[38;5;124m\"\u001b[39m\u001b[38;5;124mPillow version: \u001b[39m\u001b[38;5;132;01m{\u001b[39;00m__version__\u001b[38;5;132;01m}\u001b[39;00m\u001b[38;5;124m\"\u001b[39m\n\u001b[1;32m     91\u001b[0m         )\n",
      "\u001b[0;31mImportError\u001b[0m: libtiff.so.5: cannot open shared object file: No such file or directory"
     ]
    }
   ],
   "source": [
    "import os\n",
    "import sys\n",
    "import random\n",
    "import pandas as pd\n",
    "import numpy as np\n",
    "from scipy.linalg import toeplitz\n",
    "from copy import copy\n",
    "import hypertools as hyp\n",
    "# import matplotlib.pyplot as plt\n",
    "\n",
    "# Comment out if you don't want to see all of the values being printed (i.e. default)\n",
    "from IPython.core.interactiveshell import InteractiveShell\n",
    "InteractiveShell.ast_node_interactivity = \"all\"\n",
    "\n",
    "current_dir = os.getcwd()\n",
    "# utils_path = os.path.join(current_dir, '..', 'utils')\n",
    "utils_path = os.path.join(current_dir, '../utils')\n",
    "utils_abs_path = os.path.abspath(utils_path)\n",
    "if utils_abs_path not in sys.path:\n",
    "    sys.path.append(utils_abs_path)\n",
    "\n",
    "import get_data\n",
    "# from impute_methods import *\n",
    "from utils.impute_methods import impute_linear_interpolation\n",
    "\n",
    "DATA_PATH = get_data.get_dataset_abspath()\n",
    "\n",
    "training_setA_path = DATA_PATH + 'training_setA'\n",
    "training_setB_path = DATA_PATH + 'training_setB'"
   ]
  },
  {
   "cell_type": "code",
   "execution_count": 8,
   "id": "1db429f0-9ac1-4f08-922a-67575a3b17a2",
   "metadata": {},
   "outputs": [
    {
     "name": "stdout",
     "output_type": "stream",
     "text": [
      "20335/20336"
     ]
    }
   ],
   "source": [
    "# READS TRAINING SET A FILES\n",
    "nan_countsA = {}\n",
    "\n",
    "# List all files in the directory\n",
    "file_list = os.listdir(training_setA_path)\n",
    "\n",
    "# Given the number of files this loop is quite slow so do not execute this block needlessly\n",
    "c = 0\n",
    "for file_name in file_list:\n",
    "    if file_name.endswith(\".psv\"):\n",
    "        file_path = os.path.join(training_setA_path, file_name)\n",
    "        # Read the file\n",
    "        data = pd.read_csv(file_path, sep='|')\n",
    "        \n",
    "        # For the first file, initialize the dictionary with column names\n",
    "        if not nan_countsA:\n",
    "            for column in data.columns:\n",
    "                nan_countsA[column] = {\"nan\": 0, \"total\": 0}\n",
    "        \n",
    "        # Update NaN counts and total counts\n",
    "        for column in data.columns:\n",
    "            nan_countsA[column][\"nan\"] += data[column].isna().sum()\n",
    "            nan_countsA[column][\"total\"] += len(data)\n",
    "    print(f\"\\r{c}/{len(file_list)}\", end=\"\")\n",
    "    c += 1"
   ]
  },
  {
   "cell_type": "code",
   "execution_count": 9,
   "id": "284fe0fd-05e7-48cd-9108-2f52df9d2505",
   "metadata": {},
   "outputs": [
    {
     "name": "stdout",
     "output_type": "stream",
     "text": [
      "19999/20000"
     ]
    }
   ],
   "source": [
    "# READS TRAINING SET B FILES\n",
    "nan_countsB = {}\n",
    "\n",
    "# List all files in the directory\n",
    "file_list = os.listdir(training_setB_path)\n",
    "\n",
    "# Given the number of files this loop is quite slow so do not execute this block needlessly\n",
    "c = 0\n",
    "for file_name in file_list:\n",
    "    if file_name.endswith(\".psv\"):\n",
    "        file_path = os.path.join(training_setB_path, file_name)\n",
    "        # Read the file\n",
    "        data = pd.read_csv(file_path, sep='|')\n",
    "        \n",
    "        # For the first file, initialize the dictionary with column names\n",
    "        if not nan_countsB:\n",
    "            for column in data.columns:\n",
    "                nan_countsB[column] = {\"nan\": 0, \"total\": 0}\n",
    "        \n",
    "        # Update NaN counts and total counts\n",
    "        for column in data.columns:\n",
    "            nan_countsB[column][\"nan\"] += data[column].isna().sum()\n",
    "            nan_countsB[column][\"total\"] += len(data)\n",
    "    print(f\"\\r{c}/{len(file_list)}\", end=\"\")\n",
    "    c += 1"
   ]
  },
  {
   "cell_type": "code",
   "execution_count": 10,
   "id": "53f396cf-0b2d-4c36-8924-a61f06479364",
   "metadata": {},
   "outputs": [
    {
     "name": "stdout",
     "output_type": "stream",
     "text": [
      "Training Set A                                                        Training Set B\n",
      "Column          num of NaN  total  Percentage                   Column          num of NaN  total  Percentage \n",
      "_____________________________________________________________________________________________________________\n",
      "HR:                  61189 / 790215    7.74%                   |HR:                  92210 / 761995   12.10%\n",
      "O2Sat:               95079 / 790215   12.03%                   |O2Sat:              107657 / 761995   14.13%\n",
      "Temp:               523314 / 790215   66.22%                   |Temp:               503670 / 761995   66.10%\n",
      "SBP:                120201 / 790215   15.21%                   |SBP:                106064 / 761995   13.92%\n",
      "MAP:                 80858 / 790215   10.23%                   |MAP:                112412 / 761995   14.75%\n",
      "DBP:                380297 / 790215   48.13%                   |DBP:                106257 / 761995   13.94%\n",
      "Resp:                77258 / 790215    9.78%                   |Resp:               161077 / 761995   21.14%\n",
      "EtCO2:              790215 / 790215  100.00%                   |EtCO2:              704359 / 761995   92.44%\n",
      "BaseExcess:         707834 / 790215   89.57%                   |BaseExcess:         760231 / 761995   99.77%\n",
      "HCO3:               726598 / 790215   91.95%                   |HCO3:               760584 / 761995   99.81%\n",
      "FiO2:               678060 / 790215   85.81%                   |FiO2:               744785 / 761995   97.74%\n",
      "pH:                 699600 / 790215   88.53%                   |pH:                 745037 / 761995   97.77%\n",
      "PaCO2:              720927 / 790215   91.23%                   |PaCO2:              744982 / 761995   97.77%\n",
      "SaO2:               751055 / 790215   95.04%                   |SaO2:               747594 / 761995   98.11%\n",
      "AST:                778395 / 790215   98.50%                   |AST:                748632 / 761995   98.25%\n",
      "BUN:                725739 / 790215   91.84%                   |BUN:                719903 / 761995   94.48%\n",
      "Alkalinephos:       778683 / 790215   98.54%                   |Alkalinephos:       748586 / 761995   98.24%\n",
      "Calcium:            750897 / 790215   95.02%                   |Calcium:            709982 / 761995   93.17%\n",
      "Chloride:           724438 / 790215   91.68%                   |Chloride:           757306 / 761995   99.38%\n",
      "Creatinine:         737728 / 790215   93.36%                   |Creatinine:         719866 / 761995   94.47%\n",
      "Bilirubin_direct:   789033 / 790215   99.85%                   |Bilirubin_direct:   760187 / 761995   99.76%\n",
      "Glucose:            693559 / 790215   87.77%                   |Glucose:            593135 / 761995   77.84%\n",
      "Lactate:            763072 / 790215   96.57%                   |Lactate:            747692 / 761995   98.12%\n",
      "Magnesium:          728734 / 790215   92.22%                   |Magnesium:          725525 / 761995   95.21%\n",
      "Phosphate:          750319 / 790215   94.95%                   |Phosphate:          739590 / 761995   97.06%\n",
      "Potassium:          704379 / 790215   89.14%                   |Potassium:          703306 / 761995   92.30%\n",
      "Bilirubin_total:    780522 / 790215   98.77%                   |Bilirubin_total:    748547 / 761995   98.24%\n",
      "TroponinI:          789250 / 790215   99.88%                   |TroponinI:          748179 / 761995   98.19%\n",
      "Hct:                697157 / 790215   88.22%                   |Hct:                717620 / 761995   94.18%\n",
      "Hgb:                720394 / 790215   91.16%                   |Hgb:                717225 / 761995   94.12%\n",
      "PTT:                751909 / 790215   95.15%                   |PTT:                754602 / 761995   99.03%\n",
      "WBC:                730867 / 790215   92.49%                   |WBC:                721896 / 761995   94.74%\n",
      "Fibrinogen:         784185 / 790215   99.24%                   |Fibrinogen:         757783 / 761995   99.45%\n",
      "Platelets:          738716 / 790215   93.48%                   |Platelets:          721285 / 761995   94.66%\n",
      "Age:                     0 / 790215    0.00%                   |Age:                     0 / 761995    0.00%\n",
      "Gender:                  0 / 790215    0.00%                   |Gender:                  0 / 761995    0.00%\n",
      "Unit1:              386165 / 790215   48.87%                   |Unit1:              225795 / 761995   29.63%\n",
      "Unit2:              386165 / 790215   48.87%                   |Unit2:              225795 / 761995   29.63%\n",
      "HospAdmTime:             8 / 790215    0.00%                   |HospAdmTime:             0 / 761995    0.00%\n",
      "ICULOS:                  0 / 790215    0.00%                   |ICULOS:                  0 / 761995    0.00%\n",
      "SepsisLabel:             0 / 790215    0.00%                   |SepsisLabel:             0 / 761995    0.00%\n"
     ]
    }
   ],
   "source": [
    "heading = \"Training Set A\".ljust(70) + \"Training Set B\" +\\\n",
    "          \"\\n\" + \"Column\".ljust(16) + \"num of NaN\" + \"  total\" + \"  Percentage\".ljust(31) +\\\n",
    "                 \"Column\".ljust(16) + \"num of NaN\" + \"  total\" + \"  Percentage \" +\\\n",
    "          \"\\n\" + \"_\"*109\n",
    "print(heading)\n",
    "\n",
    "# Iterate through the dictionary and print the required format\n",
    "for itemsA, itemsB in zip(nan_countsA.items(), nan_countsB.items()):\n",
    "    columnA, countsA = itemsA[0], itemsA[1]\n",
    "    columnB, countsB = itemsB[0], itemsB[1]\n",
    "    nan_countA = countsA[\"nan\"]\n",
    "    total_countA = countsA[\"total\"]\n",
    "    percentage = (nan_countA / total_countA) * 100 if total_countA else 0\n",
    "    outputA = f\"{columnA}:\".ljust(17) + f\" {nan_countA} \".rjust(10) + f\"/ {total_countA}\".ljust(10) + f\"{percentage:6.2f}%\"\n",
    "\n",
    "    nan_countB = countsB[\"nan\"]\n",
    "    total_countB = countsB[\"total\"]\n",
    "    percentage = (nan_countB / total_countB) * 100 if total_countB else 0\n",
    "    outputB = f\"{columnB}:\".ljust(17) + f\" {nan_countB} \".rjust(10) + f\"/ {total_countB}\".ljust(10) + f\"{percentage:6.2f}%\"\n",
    "    \n",
    "    print(outputA + \"|\".rjust(20) + outputB)"
   ]
  },
  {
   "cell_type": "code",
   "execution_count": 11,
   "id": "bf159fd0-a29d-4dcf-b253-04ece01b5145",
   "metadata": {},
   "outputs": [
    {
     "name": "stdout",
     "output_type": "stream",
     "text": [
      "p001146.psv\n",
      "0     88.0\n",
      "1     76.0\n",
      "2     72.0\n",
      "3     81.0\n",
      "4      NaN\n",
      "5     94.0\n",
      "6     80.0\n",
      "7     88.0\n",
      "8     78.0\n",
      "9     80.0\n",
      "10    86.0\n",
      "11    86.0\n",
      "12     NaN\n",
      "13     NaN\n",
      "14    75.0\n",
      "15    69.0\n",
      "16     NaN\n",
      "17    85.0\n",
      "18    83.0\n",
      "19    84.0\n",
      "20    73.0\n",
      "21    73.0\n",
      "22     NaN\n",
      "23    97.0\n",
      "Name: HR, dtype: float64\n"
     ]
    }
   ],
   "source": [
    "# Let us look at a random specific patient file\n",
    "\n",
    "# Change to empty strign to get random file\n",
    "specific_filename = \"p001146.psv\"\n",
    "\n",
    "# From training set A\n",
    "file_path = random.choice(os.listdir(training_setA_path)) if specific_filename == \"\" else specific_filename\n",
    "file_data = pd.read_csv(training_setA_path + \"/\" + file_path, sep='|')\n",
    "print(file_path)\n",
    "print(file_data['HR'])"
   ]
  },
  {
   "cell_type": "code",
   "execution_count": 12,
   "id": "45cc9fdb-213e-49df-a6a8-e03c77998a14",
   "metadata": {},
   "outputs": [
    {
     "name": "stdout",
     "output_type": "stream",
     "text": [
      "0     88.000000\n",
      "1     76.000000\n",
      "2     72.000000\n",
      "3     81.000000\n",
      "4     87.500000\n",
      "5     94.000000\n",
      "6     80.000000\n",
      "7     88.000000\n",
      "8     78.000000\n",
      "9     80.000000\n",
      "10    86.000000\n",
      "11    86.000000\n",
      "12    82.333333\n",
      "13    78.666667\n",
      "14    75.000000\n",
      "15    69.000000\n",
      "16    77.000000\n",
      "17    85.000000\n",
      "18    83.000000\n",
      "19    84.000000\n",
      "20    73.000000\n",
      "21    73.000000\n",
      "22    85.000000\n",
      "23    97.000000\n",
      "Name: HR, dtype: float64\n"
     ]
    }
   ],
   "source": [
    "# This linearly interpolates the Heart Rate values which could be sufficient\n",
    "imputed_data = impute_linear_interpolation(file_data, 'HR')\n",
    "\n",
    "print(imputed_data['HR'])"
   ]
  },
  {
   "cell_type": "code",
   "execution_count": 4,
   "id": "f75f5c1b-9f30-43e4-861d-a533d6ec125d",
   "metadata": {},
   "outputs": [
    {
     "ename": "NameError",
     "evalue": "name 'get_data' is not defined",
     "output_type": "error",
     "traceback": [
      "\u001b[0;31m---------------------------------------------------------------------------\u001b[0m",
      "\u001b[0;31mNameError\u001b[0m                                 Traceback (most recent call last)",
      "Cell \u001b[0;32mIn[4], line 1\u001b[0m\n\u001b[0;32m----> 1\u001b[0m full_dataset \u001b[38;5;241m=\u001b[39m \u001b[43mget_data\u001b[49m\u001b[38;5;241m.\u001b[39mget_dataset_as_df()\n",
      "\u001b[0;31mNameError\u001b[0m: name 'get_data' is not defined"
     ]
    }
   ],
   "source": [
    "full_dataset = get_data.get_dataset_as_df()"
   ]
  },
  {
   "cell_type": "code",
   "execution_count": null,
   "id": "67758b68-6ed6-4ebc-8e0d-3a23b331bc68",
   "metadata": {},
   "outputs": [],
   "source": [
    "\n",
    "missing = .1\n",
    "inds = [(i,j) for i in range(data2.shape[0]) for j in range(data2.shape[1])]\n",
    "missing_data = [inds[i] for i in np.random.choice(int(len(inds)), int(len(inds)*missing))]\n",
    "for i,j in missing_data:\n",
    "    data2[i,j]=np.nan\n",
    "\n",
    "# plot\n",
    "hyp.plot([data1, data2], linestyle=['-',':'], legend=['Original', 'PPCA'])"
   ]
  }
 ],
 "metadata": {
  "kernelspec": {
   "display_name": "datascience",
   "language": "python",
   "name": "datascience"
  },
  "language_info": {
   "codemirror_mode": {
    "name": "ipython",
    "version": 3
   },
   "file_extension": ".py",
   "mimetype": "text/x-python",
   "name": "python",
   "nbconvert_exporter": "python",
   "pygments_lexer": "ipython3",
   "version": "3.11.8"
  }
 },
 "nbformat": 4,
 "nbformat_minor": 5
}
