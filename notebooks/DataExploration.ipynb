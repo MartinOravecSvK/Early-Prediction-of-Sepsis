{
 "cells": [
  {
   "cell_type": "code",
   "execution_count": 5,
   "id": "3e0a4406-e2d4-4a49-83b1-7d66bc61b2fb",
   "metadata": {},
   "outputs": [],
   "source": [
    "import os\n",
    "import sys\n",
    "import pandas as pd\n",
    "import numpy as np\n",
    "# import matplotlib.pyplot as plt\n",
    "\n",
    "current_dir = os.getcwd()\n",
    "utils_path = os.path.join(current_dir, '..', 'utils')\n",
    "utils_abs_path = os.path.abspath(utils_path)\n",
    "\n",
    "if utils_abs_path not in sys.path:\n",
    "    sys.path.append(utils_abs_path)\n",
    "\n",
    "import get_data\n",
    "\n",
    "DATA_PATH = get_data.get_dataset_abspath()\n",
    "\n",
    "training_setA_path = DATA_PATH + 'training_setA'\n",
    "training_setB_path = DATA_PATH + 'training_setB'"
   ]
  },
  {
   "cell_type": "code",
   "execution_count": 6,
   "id": "1db429f0-9ac1-4f08-922a-67575a3b17a2",
   "metadata": {},
   "outputs": [
    {
     "name": "stdout",
     "output_type": "stream",
     "text": [
      "{'HR': {'nan': 61189, 'total': 790215}, 'O2Sat': {'nan': 95079, 'total': 790215}, 'Temp': {'nan': 523314, 'total': 790215}, 'SBP': {'nan': 120201, 'total': 790215}, 'MAP': {'nan': 80858, 'total': 790215}, 'DBP': {'nan': 380297, 'total': 790215}, 'Resp': {'nan': 77258, 'total': 790215}, 'EtCO2': {'nan': 790215, 'total': 790215}, 'BaseExcess': {'nan': 707834, 'total': 790215}, 'HCO3': {'nan': 726598, 'total': 790215}, 'FiO2': {'nan': 678060, 'total': 790215}, 'pH': {'nan': 699600, 'total': 790215}, 'PaCO2': {'nan': 720927, 'total': 790215}, 'SaO2': {'nan': 751055, 'total': 790215}, 'AST': {'nan': 778395, 'total': 790215}, 'BUN': {'nan': 725739, 'total': 790215}, 'Alkalinephos': {'nan': 778683, 'total': 790215}, 'Calcium': {'nan': 750897, 'total': 790215}, 'Chloride': {'nan': 724438, 'total': 790215}, 'Creatinine': {'nan': 737728, 'total': 790215}, 'Bilirubin_direct': {'nan': 789033, 'total': 790215}, 'Glucose': {'nan': 693559, 'total': 790215}, 'Lactate': {'nan': 763072, 'total': 790215}, 'Magnesium': {'nan': 728734, 'total': 790215}, 'Phosphate': {'nan': 750319, 'total': 790215}, 'Potassium': {'nan': 704379, 'total': 790215}, 'Bilirubin_total': {'nan': 780522, 'total': 790215}, 'TroponinI': {'nan': 789250, 'total': 790215}, 'Hct': {'nan': 697157, 'total': 790215}, 'Hgb': {'nan': 720394, 'total': 790215}, 'PTT': {'nan': 751909, 'total': 790215}, 'WBC': {'nan': 730867, 'total': 790215}, 'Fibrinogen': {'nan': 784185, 'total': 790215}, 'Platelets': {'nan': 738716, 'total': 790215}, 'Age': {'nan': 0, 'total': 790215}, 'Gender': {'nan': 0, 'total': 790215}, 'Unit1': {'nan': 386165, 'total': 790215}, 'Unit2': {'nan': 386165, 'total': 790215}, 'HospAdmTime': {'nan': 8, 'total': 790215}, 'ICULOS': {'nan': 0, 'total': 790215}, 'SepsisLabel': {'nan': 0, 'total': 790215}}\n"
     ]
    }
   ],
   "source": [
    "nan_counts = {}\n",
    "\n",
    "# List all files in the directory\n",
    "file_list = os.listdir(training_setA_path)\n",
    "\n",
    "for file_name in file_list:\n",
    "    if file_name.endswith(\".psv\"):\n",
    "        file_path = os.path.join(training_setA_path, file_name)\n",
    "        # Read the file\n",
    "        data = pd.read_csv(file_path, sep='|')\n",
    "        \n",
    "        # For the first file, initialize the dictionary with column names\n",
    "        if not nan_counts:\n",
    "            for column in data.columns:\n",
    "                nan_counts[column] = {\"nan\": 0, \"total\": 0}\n",
    "        \n",
    "        # Update NaN counts and total counts\n",
    "        for column in data.columns:\n",
    "            nan_counts[column][\"nan\"] += data[column].isna().sum()\n",
    "            nan_counts[column][\"total\"] += len(data)\n",
    "\n",
    "print(nan_counts)"
   ]
  },
  {
   "cell_type": "code",
   "execution_count": null,
   "id": "53f396cf-0b2d-4c36-8924-a61f06479364",
   "metadata": {},
   "outputs": [],
   "source": []
  }
 ],
 "metadata": {
  "kernelspec": {
   "display_name": "datascience",
   "language": "python",
   "name": "datascience"
  },
  "language_info": {
   "codemirror_mode": {
    "name": "ipython",
    "version": 3
   },
   "file_extension": ".py",
   "mimetype": "text/x-python",
   "name": "python",
   "nbconvert_exporter": "python",
   "pygments_lexer": "ipython3",
   "version": "3.11.8"
  }
 },
 "nbformat": 4,
 "nbformat_minor": 5
}
