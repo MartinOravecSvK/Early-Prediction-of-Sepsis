{
 "cells": [
  {
   "cell_type": "code",
   "execution_count": 5,
   "id": "2c24c5cc-49b0-40b2-a885-0c65aa274634",
   "metadata": {},
   "outputs": [],
   "source": [
    "import os\n",
    "import sys\n",
    "import random\n",
    "import pandas as pd\n",
    "import numpy as np\n",
    "from scipy.linalg import toeplitz\n",
    "from copy import copy\n",
    "import matplotlib.pyplot as plt\n",
    "%matplotlib inline\n",
    "\n",
    "# Geniuses that worked on hypertools did not update certain package and thus it produces warnings (they break jupyter lab)\n",
    "import warnings\n",
    "warnings.filterwarnings(\"ignore\")\n",
    "\n",
    "# Comment out if you don't want to see all of the values being printed (i.e. default)\n",
    "from IPython.core.interactiveshell import InteractiveShell\n",
    "InteractiveShell.ast_node_interactivity = \"all\"\n",
    "\n",
    "current_dir = os.getcwd()\n",
    "# utils_path = os.path.join(current_dir, '..', 'utils')\n",
    "utils_path = os.path.join(current_dir, '../')\n",
    "utils_abs_path = os.path.abspath(utils_path)\n",
    "if utils_abs_path not in sys.path:\n",
    "    sys.path.append(utils_abs_path)\n",
    "\n",
    "import utils.get_data as get_data\n",
    "# from impute_methods import *\n",
    "from utils.impute_methods import impute_linear_interpolation\n",
    "\n",
    "DATA_PATH = get_data.get_dataset_abspath()\n",
    "\n",
    "training_setA_path = DATA_PATH + 'training_setA'\n",
    "training_setB_path = DATA_PATH + 'training_setB'"
   ]
  },
  {
   "cell_type": "code",
   "execution_count": null,
   "id": "19f6cb9b-e7cc-403a-b905-a62af86d88f2",
   "metadata": {},
   "outputs": [],
   "source": [
    "def plot_heart_rate_data(df):\n",
    "    plt.figure(figsize=(10, 6))\n",
    "    dataset['HR'].hist(bins=50)\n",
    "    plt.title('Distribution of Heart Rate')\n",
    "    plt.xlabel('Heart Rate')\n",
    "    plt.ylabel('Frequency')\n",
    "    plt.show()\n",
    "    \n",
    "    # You can also get a quick statistical summary\n",
    "    print(dataset['HR'].describe())\n",
    "    "
   ]
  },
  {
   "cell_type": "code",
   "execution_count": 6,
   "id": "6dfb1530-8fc5-4878-b7ee-312ee37f4c2f",
   "metadata": {},
   "outputs": [
    {
     "name": "stdout",
     "output_type": "stream",
     "text": [
      "   20336\n",
      "   40336\n",
      "Putting data into dataframe...\n",
      "Done\n",
      "Index(['HR', 'O2Sat', 'Temp', 'SBP', 'MAP', 'DBP', 'Resp', 'EtCO2',\n",
      "       'BaseExcess', 'HCO3', 'FiO2', 'pH', 'PaCO2', 'SaO2', 'AST', 'BUN',\n",
      "       'Alkalinephos', 'Calcium', 'Chloride', 'Creatinine', 'Bilirubin_direct',\n",
      "       'Glucose', 'Lactate', 'Magnesium', 'Phosphate', 'Potassium',\n",
      "       'Bilirubin_total', 'TroponinI', 'Hct', 'Hgb', 'PTT', 'WBC',\n",
      "       'Fibrinogen', 'Platelets', 'Age', 'Gender', 'Unit1', 'Unit2',\n",
      "       'HospAdmTime', 'ICULOS', 'SepsisLabel'],\n",
      "      dtype='object')\n"
     ]
    },
    {
     "data": {
      "text/plain": [
       "<Figure size 1000x600 with 0 Axes>"
      ]
     },
     "execution_count": 6,
     "metadata": {},
     "output_type": "execute_result"
    },
    {
     "data": {
      "text/plain": [
       "<Axes: >"
      ]
     },
     "execution_count": 6,
     "metadata": {},
     "output_type": "execute_result"
    },
    {
     "data": {
      "text/plain": [
       "Text(0.5, 1.0, 'Distribution of Heart Rate')"
      ]
     },
     "execution_count": 6,
     "metadata": {},
     "output_type": "execute_result"
    },
    {
     "data": {
      "text/plain": [
       "Text(0.5, 0, 'Heart Rate')"
      ]
     },
     "execution_count": 6,
     "metadata": {},
     "output_type": "execute_result"
    },
    {
     "data": {
      "text/plain": [
       "Text(0, 0.5, 'Frequency')"
      ]
     },
     "execution_count": 6,
     "metadata": {},
     "output_type": "execute_result"
    },
    {
     "data": {
      "image/png": "[encoded data removed]",
      "text/plain": [
       "<Figure size 1000x600 with 1 Axes>"
      ]
     },
     "metadata": {},
     "output_type": "display_data"
    },
    {
     "name": "stdout",
     "output_type": "stream",
     "text": [
      "count    1.398811e+06\n",
      "mean     8.458144e+01\n",
      "std      1.732524e+01\n",
      "min      2.000000e+01\n",
      "25%      7.200000e+01\n",
      "50%      8.350000e+01\n",
      "75%      9.550000e+01\n",
      "max      2.800000e+02\n",
      "Name: HR, dtype: float64\n"
     ]
    }
   ],
   "source": [
    "# DATA PREPROCESSING\n",
    "\n",
    "# Fill in some data that is easily imputed\n",
    "dataset = get_data.get_dataset_as_df()\n",
    "\n",
    "# Imputes Heart Rate using linear interpolation\n",
    "dataset = impute_linear_interpolation(dataset, 'HR')\n",
    "print(\"Finished imputing Heart Rate\")\n",
    "\n",
    "# Imputes O2Sat using linear interpolation\n",
    "# Other methods might be better based on the data distribution (consider Spline or Polynomial Interpolation)\n",
    "dataset = impute_linear_interpolation(dataset, 'O2Sat')\n",
    "print(\"Finished imputing O2Sat\")\n",
    "\n",
    "# Impute SBP using linear interpolation\n",
    "# We can consider Forward Fill or Backward Fill if we assume the blood pressure should remain relatively stable\n",
    "dataset = impute_linear_interpolation(dataset, 'SBP')\n",
    "print(\"Finished imputing SBP\")\n",
    "\n",
    "# Impute MAP using linear interpolation\n",
    "# To be more sophiscticated the data can be imputed with custom models to take into account SBP and DBP as there might be correlation\n",
    "dataset = impute_linear_interpolation(dataset, 'MAP')\n",
    "print(\"Finished imputing MAP\")\n",
    "\n",
    "# Impute DBP using linear interpolation\n",
    "# Same as SBP, we might consider Spline\n",
    "dataset = impute_linear_interpolation(dataset, 'DBP')\n",
    "print(\"Finished imputing DBP\")\n",
    "\n",
    "# Impute Resp using linear interpolation\n",
    "# Same as SBP and DBP, we might consider Spline or Polynomial Interpolation\n",
    "dataset = impute_linear_interpolation(dataset, 'Resp')\n",
    "print(\"Finished imputing Resp\")\n",
    "\n",
    "\n",
    "# Use forward filling for some of the data\n",
    "\n",
    "# Best solution used sliding window\n",
    "\n",
    "# Extract features for each patient data individually\n",
    "def extract_features(patient_data):\n",
    "    # Get the column with Sepsis Label as it is not the same for each row (check documentation)\n",
    "    label = np.array(patient_data['SepsisLabel'])\n",
    "    patient_data = patient_data.drop(columns=['SepsisLabel'])\n",
    "\n",
    "    # some code\n",
    "    # Forward-Filling missing values\n",
    "    data = data.fillna(method='ffill')\n",
    "    \n",
    "    return features, labels\n",
    "\n",
    "# Run feature extraction for each patient\n"
   ]
  },
  {
   "cell_type": "code",
   "execution_count": null,
   "id": "60e65180-1e29-4c5b-b326-1a4c1bd55adb",
   "metadata": {},
   "outputs": [],
   "source": []
  }
 ],
 "metadata": {
  "kernelspec": {
   "display_name": "datascience",
   "language": "python",
   "name": "datascience"
  },
  "language_info": {
   "codemirror_mode": {
    "name": "ipython",
    "version": 3
   },
   "file_extension": ".py",
   "mimetype": "text/x-python",
   "name": "python",
   "nbconvert_exporter": "python",
   "pygments_lexer": "ipython3",
   "version": "3.11.8"
  }
 },
 "nbformat": 4,
 "nbformat_minor": 5
}
