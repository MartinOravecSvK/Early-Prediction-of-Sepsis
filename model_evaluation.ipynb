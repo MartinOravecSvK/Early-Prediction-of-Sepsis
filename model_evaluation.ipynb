{
 "cells": [
  {
   "cell_type": "code",
   "execution_count": 1,
   "id": "acd33e6e-3aa3-476a-9878-f08ee7a515ee",
   "metadata": {},
   "outputs": [],
   "source": [
    "# Get the same number of sepsis label = 0 as there are sepsis label =  1"
   ]
  },
  {
   "cell_type": "code",
   "execution_count": 21,
   "id": "7b5015e5-c4a1-4c0c-947f-ab58cf1c7722",
   "metadata": {},
   "outputs": [],
   "source": [
    "import torch\n",
    "import sklearn as sk\n",
    "import numpy as np\n",
    "import pandas as pd\n",
    "import seaborn as sns\n",
    "import matplotlib.pyplot as plt\n",
    "import os\n",
    "import xgboost\n",
    "from torch.utils.data import DataLoader, TensorDataset, Dataset"
   ]
  },
  {
   "cell_type": "code",
   "execution_count": 22,
   "id": "e8e3752d-b2a6-4c2b-8b2a-c0a88b364e34",
   "metadata": {},
   "outputs": [],
   "source": [
    "import utils.get_data as get_data\n",
    "from utils.impute_methods import impute_linear_interpolation\n",
    "from utils.feature_engineering import preprecess_data"
   ]
  },
  {
   "cell_type": "code",
   "execution_count": 23,
   "id": "1a717d42-9ff5-4123-9a35-0630b3021422",
   "metadata": {},
   "outputs": [
    {
     "name": "stdout",
     "output_type": "stream",
     "text": [
      "Using cuda:0.\n"
     ]
    }
   ],
   "source": [
    "device = torch.device(\"cuda:0\" if torch.cuda.is_available() else \"cpu\")\n",
    "print(f\"Using {device}.\")"
   ]
  },
  {
   "cell_type": "code",
   "execution_count": 24,
   "id": "232f3be1-0d5f-4005-8e17-f7188a799949",
   "metadata": {},
   "outputs": [],
   "source": [
    "cmap = plt.get_cmap(\"viridis\")"
   ]
  },
  {
   "cell_type": "code",
   "execution_count": 25,
   "id": "015fcbb4-aae4-463f-88c1-f123f51b6143",
   "metadata": {},
   "outputs": [],
   "source": [
    "# Load xgboost\n",
    "xgb_path = \"models/saved/xgboost_model1.mdl\"\n",
    "xgb = xgboost.XGBClassifier()\n",
    "xgb.load_model(xgb_path)"
   ]
  },
  {
   "cell_type": "code",
   "execution_count": 26,
   "id": "ac42ddfb-1bc2-4a47-8ad1-57a34e89baa8",
   "metadata": {},
   "outputs": [],
   "source": [
    "# Load transformers\n",
    "transformers_dir = os.getcwd() + \"/models/transformer\"\n",
    "transformer_paths = [os.path.join(transformers_dir, path) for path in os.listdir(transformers_dir)]\n",
    "transformers = []\n",
    "for model_path in transformer_paths[:-2]:\n",
    "    model = torch.load(model_path).to(\"cuda\")\n",
    "    transformers.append(model)"
   ]
  },
  {
   "cell_type": "code",
   "execution_count": 27,
   "id": "fb0ba08b-0faf-470d-ba70-97802a80bb5f",
   "metadata": {},
   "outputs": [],
   "source": [
    "class PatientDataset(Dataset):\n",
    "    def __init__(self, patient_ids, X, y, max_length, device):\n",
    "        self.patient_ids = patient_ids\n",
    "        self.device = device\n",
    "        self.max_length = max_length\n",
    "        self.X = X\n",
    "        self.y = y\n",
    "    \n",
    "    def __len__(self):\n",
    "        return len(self.patient_ids)\n",
    "    \n",
    "    def __getitem__(self, index):\n",
    "        pid = self.patient_ids[index]\n",
    "        patient_data = self.X.loc[pid]\n",
    "        X_train, seq_length = prepare_patient_data(patient_data, self.max_length)\n",
    "        y_train = torch.tensor(self.y.loc[pid].values, dtype=torch.float32)\n",
    "\n",
    "        # Ensure y_train is appropriately padded or trimmed to match X_train's length\n",
    "        if len(y_train) > self.max_length:\n",
    "            y_train = y_train[:self.max_length]\n",
    "        elif len(y_train) < self.max_length:\n",
    "            y_train = pad(torch.tensor(y_train, dtype=torch.float32), (0, self.max_length - len(y_train)), value=0)\n",
    "        \n",
    "        return X_train, y_train, len(y_train)\n",
    "        # return X_train, y_train, seq_length\n",
    "\n",
    "\n",
    "def prepare_patient_data(patient_data, max_length): \n",
    "        # Standardizing the data\n",
    "        scaler = StandardScaler()\n",
    "        features = scaler.fit_transform(patient_data)\n",
    "        # Padding\n",
    "        padded_features = np.zeros((max_length, features.shape[1]))\n",
    "        sequence_length = min(max_length, features.shape[0])\n",
    "        padded_features[:sequence_length] = features[:sequence_length]\n",
    "        return torch.tensor(padded_features, dtype=torch.float32), sequence_length"
   ]
  },
  {
   "cell_type": "code",
   "execution_count": 28,
   "id": "a55eda4c-a0b8-4b16-84ac-162981059bf6",
   "metadata": {},
   "outputs": [
    {
     "name": "stdout",
     "output_type": "stream",
     "text": [
      "   20337\n",
      "   40337\n",
      "Dataset loaded into a MultiIndex DataFrame.\n"
     ]
    }
   ],
   "source": [
    "dataset, patient_id_map = get_data.get_dataset()"
   ]
  },
  {
   "cell_type": "code",
   "execution_count": 37,
   "id": "175d0c6e-2282-407c-9156-aeb48caec126",
   "metadata": {},
   "outputs": [
    {
     "data": {
      "text/plain": [
       "<bound method DataFrame.info of                        HR  O2Sat   Temp    SBP     MAP    DBP  Resp  EtCO2  \\\n",
       "patient_id                                                                   \n",
       "20343.0    790481    84.0   96.0    NaN  142.0   89.00   69.0  16.0    NaN   \n",
       "1192.0     46265     89.0   97.0    NaN  150.0   92.00   87.0  21.0    NaN   \n",
       "16323.0    632249    75.0  100.0  36.39    NaN   64.00    NaN  18.0    NaN   \n",
       "541.0      20936     61.0   98.0    NaN  112.0   66.67    NaN  20.0    NaN   \n",
       "24136.0    933450    81.0   94.0    NaN  140.0   95.00   83.0  20.0    NaN   \n",
       "...                   ...    ...    ...    ...     ...    ...   ...    ...   \n",
       "18941.0    735246   115.0   95.0  37.89  138.0  122.00  112.0  32.0    NaN   \n",
       "34537.0    1331595   74.0   98.0  36.40  172.0  108.00   87.0  18.0   37.0   \n",
       "4642.0     180365    86.0  100.0    NaN  104.0   69.00   53.0  18.0    NaN   \n",
       "6673.0     258910    79.0   99.0    NaN  150.0   93.00   57.0  23.0    NaN   \n",
       "16575.0    642389    65.0   94.0    NaN  150.0   84.00   57.0  27.0    NaN   \n",
       "\n",
       "                    BaseExcess  HCO3  ...  WBC  Fibrinogen  Platelets    Age  \\\n",
       "patient_id                            ...                                      \n",
       "20343.0    790481          NaN   NaN  ...  NaN         NaN        NaN  42.00   \n",
       "1192.0     46265           NaN   NaN  ...  NaN         NaN        NaN  21.27   \n",
       "16323.0    632249          NaN   NaN  ...  NaN         NaN        NaN  51.32   \n",
       "541.0      20936           NaN   NaN  ...  NaN         NaN        NaN  85.33   \n",
       "24136.0    933450          NaN   NaN  ...  NaN         NaN        NaN  75.00   \n",
       "...                        ...   ...  ...  ...         ...        ...    ...   \n",
       "18941.0    735246          NaN   NaN  ...  NaN         NaN        NaN  50.65   \n",
       "34537.0    1331595         NaN   NaN  ...  NaN         NaN        NaN  72.00   \n",
       "4642.0     180365          NaN   NaN  ...  NaN         NaN        NaN  42.24   \n",
       "6673.0     258910          NaN   NaN  ...  NaN         NaN        NaN  85.68   \n",
       "16575.0    642389          NaN   NaN  ...  NaN         NaN        NaN  74.21   \n",
       "\n",
       "                    Gender  Unit1  Unit2  HospAdmTime  ICULOS  SepsisLabel  \n",
       "patient_id                                                                  \n",
       "20343.0    790481        1    NaN    NaN     -1145.97      17            0  \n",
       "1192.0     46265         0    NaN    NaN        -0.03     173            1  \n",
       "16323.0    632249        0    1.0    0.0      -142.28      50            1  \n",
       "541.0      20936         0    NaN    NaN      -233.35     247            1  \n",
       "24136.0    933450        1    1.0    0.0        -5.04      36            0  \n",
       "...                    ...    ...    ...          ...     ...          ...  \n",
       "18941.0    735246        1    1.0    0.0        -0.01      18            1  \n",
       "34537.0    1331595       1    0.0    1.0        -5.21     159            0  \n",
       "4642.0     180365        1    NaN    NaN        -0.02      13            0  \n",
       "6673.0     258910        0    NaN    NaN        -0.04      99            1  \n",
       "16575.0    642389        1    NaN    NaN        -0.01     143            0  \n",
       "\n",
       "[11166 rows x 41 columns]>"
      ]
     },
     "execution_count": 37,
     "metadata": {},
     "output_type": "execute_result"
    }
   ],
   "source": [
    "dataset.info"
   ]
  },
  {
   "cell_type": "code",
   "execution_count": 32,
   "id": "48129e02-8a09-48ca-aad4-fa121390a758",
   "metadata": {},
   "outputs": [],
   "source": [
    "# Get a random sample of the non-sepsis dataset the same length as the sepsis dataset\n",
    "sepsis_zero = dataset[dataset['SepsisLabel'] == 0]\n",
    "sepsis_one = dataset[dataset['SepsisLabel'] == 1]\n",
    "random_subset_sepsis_zero = sepsis_zero.sample(n=len(sepsis_one.index), random_state=42)\n",
    "\n",
    "combined = pd.concat([random_subset_sepsis_zero, sepsis_one])\n",
    "\n",
    "subset_proportion = 0.2\n",
    "n = round(len(combined) * subset_proportion)\n",
    "\n",
    "# Combine and get a random subset\n",
    "dataset = combined.sample(n, random_state=42)"
   ]
  },
  {
   "cell_type": "code",
   "execution_count": 33,
   "id": "14e13039-5d3c-4d9b-98cc-3324a866835b",
   "metadata": {},
   "outputs": [
    {
     "data": {
      "text/plain": [
       "11166"
      ]
     },
     "execution_count": 33,
     "metadata": {},
     "output_type": "execute_result"
    }
   ],
   "source": [
    "len(dataset)"
   ]
  },
  {
   "cell_type": "code",
   "execution_count": 35,
   "id": "e8a212ac-a163-4765-9225-4b4b61fcbf51",
   "metadata": {},
   "outputs": [
    {
     "data": {
      "text/plain": [
       "(11166, 41)"
      ]
     },
     "execution_count": 35,
     "metadata": {},
     "output_type": "execute_result"
    }
   ],
   "source": [
    "dataset.shape"
   ]
  },
  {
   "cell_type": "code",
   "execution_count": 13,
   "id": "fd7efb79-84fd-4b7e-a07f-f83d8d87ebf3",
   "metadata": {},
   "outputs": [
    {
     "name": "stdout",
     "output_type": "stream",
     "text": [
      "Dataset after downsampling:  (279625, 41)\n"
     ]
    }
   ],
   "source": [
    "downsampling = True\n",
    "if downsampling:\n",
    "    sepsis_groups = dataset.groupby(level=\"patient_id\")[\"SepsisLabel\"].max()\n",
    "    patients_sepsis = sepsis_groups[sepsis_groups == 1].index\n",
    "    patients_no_sepsis = sepsis_groups[sepsis_groups == 0].index\n",
    "    min_size = len(patients_sepsis)\n",
    "    sampled_no_sepsis = np.random.choice(patients_no_sepsis, min_size, replace=False)\n",
    "    downsampled_dataset = dataset.loc[np.concatenate([patients_sepsis, sampled_no_sepsis])]\n",
    "    print(\"Dataset after downsampling: \", downsampled_dataset.shape)"
   ]
  },
  {
   "cell_type": "code",
   "execution_count": 14,
   "id": "5c59afe0-1028-440d-9251-7ce9ec804509",
   "metadata": {},
   "outputs": [
    {
     "name": "stdout",
     "output_type": "stream",
     "text": [
      "Linearly interpolating:\n",
      "HR\n",
      "O2Sat\n",
      "SBP\n",
      "MAP\n",
      "DBP\n",
      "Resp\n"
     ]
    }
   ],
   "source": [
    "columns_to_linearly_interpolate = [\n",
    "    'HR', 'O2Sat', 'SBP', 'MAP', 'DBP', 'Resp'\n",
    "]\n",
    "\n",
    "# Linear Interpolation\n",
    "print(\"Linearly interpolating:\")\n",
    "for col in columns_to_linearly_interpolate:\n",
    "    if col != 'SepsisLabel':  # Ensure we do not interpolate 'SepsisLabel'\n",
    "        dataset = impute_linear_interpolation(dataset, col)\n",
    "        print(col)"
   ]
  },
  {
   "cell_type": "code",
   "execution_count": null,
   "id": "c2ae9546-ca67-4bc9-8cc7-d9d580251733",
   "metadata": {},
   "outputs": [],
   "source": [
    "# Linear Interpolation\n",
    "print(\"Linearly interpolating:\")\n",
    "for col in columns_to_linearly_interpolate:\n",
    "    if col != 'SepsisLabel':  # Ensure we do not interpolate 'SepsisLabel'\n",
    "        downsampled_dataset = impute_linear_interpolation(downsampled_dataset, col)\n",
    "        print(col)"
   ]
  },
  {
   "cell_type": "code",
   "execution_count": 15,
   "id": "1610e1d0-a98c-4307-9ee0-4a00a0c15735",
   "metadata": {},
   "outputs": [],
   "source": [
    "def add_nan_indicators(df):\n",
    "    for column in df.columns:\n",
    "        df[column + '_nan'] = df[column].isna().astype(int)\n",
    "    return df"
   ]
  },
  {
   "cell_type": "code",
   "execution_count": 20,
   "id": "a0c98273-bce0-4de5-926c-247a64f8ef55",
   "metadata": {},
   "outputs": [
    {
     "ename": "KeyboardInterrupt",
     "evalue": "",
     "output_type": "error",
     "traceback": [
      "\u001b[1;31m---------------------------------------------------------------------------\u001b[0m",
      "\u001b[1;31mKeyboardInterrupt\u001b[0m                         Traceback (most recent call last)",
      "Cell \u001b[1;32mIn[20], line 2\u001b[0m\n\u001b[0;32m      1\u001b[0m X \u001b[38;5;241m=\u001b[39m add_nan_indicators(dataset)\n\u001b[1;32m----> 2\u001b[0m XX, y_engineered \u001b[38;5;241m=\u001b[39m \u001b[43mpreprecess_data\u001b[49m\u001b[43m(\u001b[49m\u001b[43mX\u001b[49m\u001b[43m)\u001b[49m\n\u001b[0;32m      3\u001b[0m new_feature_names \u001b[38;5;241m=\u001b[39m [\u001b[38;5;124mf\u001b[39m\u001b[38;5;124m\"\u001b[39m\u001b[38;5;124mnew_feature_\u001b[39m\u001b[38;5;132;01m{\u001b[39;00mi\u001b[38;5;132;01m}\u001b[39;00m\u001b[38;5;124m\"\u001b[39m \u001b[38;5;28;01mfor\u001b[39;00m i \u001b[38;5;129;01min\u001b[39;00m \u001b[38;5;28mrange\u001b[39m(XX\u001b[38;5;241m.\u001b[39mshape[\u001b[38;5;241m1\u001b[39m])]\n\u001b[0;32m      4\u001b[0m XX_df \u001b[38;5;241m=\u001b[39m pd\u001b[38;5;241m.\u001b[39mDataFrame(XX, columns\u001b[38;5;241m=\u001b[39mnew_feature_names, index\u001b[38;5;241m=\u001b[39mX\u001b[38;5;241m.\u001b[39mindex)\n",
      "File \u001b[1;32m~\\Desktop\\Year3\\ADS\\ADS_COURSEWORK\\Early-Prediction-of-Sepsis\\utils\\feature_engineering.py:240\u001b[0m, in \u001b[0;36mpreprecess_data\u001b[1;34m(dataset, patient_id_map)\u001b[0m\n\u001b[0;32m    236\u001b[0m     \u001b[38;5;28mprint\u001b[39m(\u001b[38;5;124mf\u001b[39m\u001b[38;5;124m\"\u001b[39m\u001b[38;5;124mProcessing data for patient ID: \u001b[39m\u001b[38;5;132;01m{\u001b[39;00mpatient_id\u001b[38;5;132;01m}\u001b[39;00m\u001b[38;5;124m, File: \u001b[39m\u001b[38;5;132;01m{\u001b[39;00mpatient_id_map[patient_id]\u001b[38;5;132;01m}\u001b[39;00m\u001b[38;5;124m\"\u001b[39m, end\u001b[38;5;241m=\u001b[39m\u001b[38;5;124m'\u001b[39m\u001b[38;5;130;01m\\r\u001b[39;00m\u001b[38;5;124m'\u001b[39m)\n\u001b[0;32m    238\u001b[0m patient_data \u001b[38;5;241m=\u001b[39m dataset\u001b[38;5;241m.\u001b[39mloc[patient_id]\n\u001b[1;32m--> 240\u001b[0m features, labels \u001b[38;5;241m=\u001b[39m \u001b[43mextract_features\u001b[49m\u001b[43m(\u001b[49m\u001b[43mpatient_data\u001b[49m\u001b[43m)\u001b[49m\n\u001b[0;32m    241\u001b[0m features \u001b[38;5;241m=\u001b[39m pd\u001b[38;5;241m.\u001b[39mDataFrame(features)\n\u001b[0;32m    242\u001b[0m labels \u001b[38;5;241m=\u001b[39m pd\u001b[38;5;241m.\u001b[39mDataFrame(labels)\n",
      "File \u001b[1;32m~\\Desktop\\Year3\\ADS\\ADS_COURSEWORK\\Early-Prediction-of-Sepsis\\utils\\feature_engineering.py:220\u001b[0m, in \u001b[0;36mextract_features\u001b[1;34m(patient_data, columns_to_drop)\u001b[0m\n\u001b[0;32m    215\u001b[0m \u001b[38;5;66;03m# The team did not use DBP, not sure why, might investigate this\u001b[39;00m\n\u001b[0;32m    216\u001b[0m \u001b[38;5;66;03m# columns = ['HR', 'O2Sat', 'SBP', 'MAP', 'Resp', 'DBP']\u001b[39;00m\n\u001b[0;32m    217\u001b[0m \n\u001b[0;32m    218\u001b[0m \u001b[38;5;66;03m# six-hour slide window statistics of selected columns\u001b[39;00m\n\u001b[0;32m    219\u001b[0m columns \u001b[38;5;241m=\u001b[39m [\u001b[38;5;124m'\u001b[39m\u001b[38;5;124mHR\u001b[39m\u001b[38;5;124m'\u001b[39m, \u001b[38;5;124m'\u001b[39m\u001b[38;5;124mO2Sat\u001b[39m\u001b[38;5;124m'\u001b[39m, \u001b[38;5;124m'\u001b[39m\u001b[38;5;124mSBP\u001b[39m\u001b[38;5;124m'\u001b[39m, \u001b[38;5;124m'\u001b[39m\u001b[38;5;124mMAP\u001b[39m\u001b[38;5;124m'\u001b[39m, \u001b[38;5;124m'\u001b[39m\u001b[38;5;124mResp\u001b[39m\u001b[38;5;124m'\u001b[39m]\n\u001b[1;32m--> 220\u001b[0m features_B \u001b[38;5;241m=\u001b[39m \u001b[43mfeature_slide_window\u001b[49m\u001b[43m(\u001b[49m\u001b[43mpatient_data\u001b[49m\u001b[43m,\u001b[49m\u001b[43m \u001b[49m\u001b[43mcolumns\u001b[49m\u001b[43m)\u001b[49m\n\u001b[0;32m    222\u001b[0m \u001b[38;5;66;03m# Score features based according to NEWS, SOFA and qSOFA\u001b[39;00m\n\u001b[0;32m    223\u001b[0m features_C \u001b[38;5;241m=\u001b[39m features_score(features_A)\n",
      "File \u001b[1;32m~\\Desktop\\Year3\\ADS\\ADS_COURSEWORK\\Early-Prediction-of-Sepsis\\utils\\feature_engineering.py:80\u001b[0m, in \u001b[0;36mfeature_slide_window\u001b[1;34m(patient_data, columns)\u001b[0m\n\u001b[0;32m     78\u001b[0m features[\u001b[38;5;124mf\u001b[39m\u001b[38;5;124m'\u001b[39m\u001b[38;5;132;01m{\u001b[39;00mcolumn\u001b[38;5;132;01m}\u001b[39;00m\u001b[38;5;124m_min\u001b[39m\u001b[38;5;124m'\u001b[39m] \u001b[38;5;241m=\u001b[39m series\u001b[38;5;241m.\u001b[39mrolling(window\u001b[38;5;241m=\u001b[39mwindow_size, min_periods\u001b[38;5;241m=\u001b[39m\u001b[38;5;241m1\u001b[39m)\u001b[38;5;241m.\u001b[39mmin()\n\u001b[0;32m     79\u001b[0m features[\u001b[38;5;124mf\u001b[39m\u001b[38;5;124m'\u001b[39m\u001b[38;5;132;01m{\u001b[39;00mcolumn\u001b[38;5;132;01m}\u001b[39;00m\u001b[38;5;124m_mean\u001b[39m\u001b[38;5;124m'\u001b[39m] \u001b[38;5;241m=\u001b[39m series\u001b[38;5;241m.\u001b[39mrolling(window\u001b[38;5;241m=\u001b[39mwindow_size, min_periods\u001b[38;5;241m=\u001b[39m\u001b[38;5;241m1\u001b[39m)\u001b[38;5;241m.\u001b[39mmean()\n\u001b[1;32m---> 80\u001b[0m features[\u001b[38;5;124mf\u001b[39m\u001b[38;5;124m'\u001b[39m\u001b[38;5;132;01m{\u001b[39;00mcolumn\u001b[38;5;132;01m}\u001b[39;00m\u001b[38;5;124m_median\u001b[39m\u001b[38;5;124m'\u001b[39m] \u001b[38;5;241m=\u001b[39m \u001b[43mseries\u001b[49m\u001b[38;5;241;43m.\u001b[39;49m\u001b[43mrolling\u001b[49m\u001b[43m(\u001b[49m\u001b[43mwindow\u001b[49m\u001b[38;5;241;43m=\u001b[39;49m\u001b[43mwindow_size\u001b[49m\u001b[43m,\u001b[49m\u001b[43m \u001b[49m\u001b[43mmin_periods\u001b[49m\u001b[38;5;241;43m=\u001b[39;49m\u001b[38;5;241;43m1\u001b[39;49m\u001b[43m)\u001b[49m\u001b[38;5;241;43m.\u001b[39;49m\u001b[43mmedian\u001b[49m\u001b[43m(\u001b[49m\u001b[43m)\u001b[49m\n\u001b[0;32m     81\u001b[0m features[\u001b[38;5;124mf\u001b[39m\u001b[38;5;124m'\u001b[39m\u001b[38;5;132;01m{\u001b[39;00mcolumn\u001b[38;5;132;01m}\u001b[39;00m\u001b[38;5;124m_std\u001b[39m\u001b[38;5;124m'\u001b[39m] \u001b[38;5;241m=\u001b[39m series\u001b[38;5;241m.\u001b[39mrolling(window\u001b[38;5;241m=\u001b[39mwindow_size, min_periods\u001b[38;5;241m=\u001b[39m\u001b[38;5;241m1\u001b[39m)\u001b[38;5;241m.\u001b[39mstd()\n\u001b[0;32m     83\u001b[0m \u001b[38;5;66;03m# For calculating std dev of differences, use diff() then apply rolling std\u001b[39;00m\n",
      "File \u001b[1;32m~\\anaconda3\\envs\\lmm\\lib\\site-packages\\pandas\\core\\window\\rolling.py:2153\u001b[0m, in \u001b[0;36mRolling.median\u001b[1;34m(self, numeric_only, engine, engine_kwargs)\u001b[0m\n\u001b[0;32m   2117\u001b[0m \u001b[38;5;129m@doc\u001b[39m(\n\u001b[0;32m   2118\u001b[0m     template_header,\n\u001b[0;32m   2119\u001b[0m     create_section_header(\u001b[38;5;124m\"\u001b[39m\u001b[38;5;124mParameters\u001b[39m\u001b[38;5;124m\"\u001b[39m),\n\u001b[1;32m   (...)\u001b[0m\n\u001b[0;32m   2151\u001b[0m     engine_kwargs: \u001b[38;5;28mdict\u001b[39m[\u001b[38;5;28mstr\u001b[39m, \u001b[38;5;28mbool\u001b[39m] \u001b[38;5;241m|\u001b[39m \u001b[38;5;28;01mNone\u001b[39;00m \u001b[38;5;241m=\u001b[39m \u001b[38;5;28;01mNone\u001b[39;00m,\n\u001b[0;32m   2152\u001b[0m ):\n\u001b[1;32m-> 2153\u001b[0m     \u001b[38;5;28;01mreturn\u001b[39;00m \u001b[38;5;28;43msuper\u001b[39;49m\u001b[43m(\u001b[49m\u001b[43m)\u001b[49m\u001b[38;5;241;43m.\u001b[39;49m\u001b[43mmedian\u001b[49m\u001b[43m(\u001b[49m\n\u001b[0;32m   2154\u001b[0m \u001b[43m        \u001b[49m\u001b[43mnumeric_only\u001b[49m\u001b[38;5;241;43m=\u001b[39;49m\u001b[43mnumeric_only\u001b[49m\u001b[43m,\u001b[49m\n\u001b[0;32m   2155\u001b[0m \u001b[43m        \u001b[49m\u001b[43mengine\u001b[49m\u001b[38;5;241;43m=\u001b[39;49m\u001b[43mengine\u001b[49m\u001b[43m,\u001b[49m\n\u001b[0;32m   2156\u001b[0m \u001b[43m        \u001b[49m\u001b[43mengine_kwargs\u001b[49m\u001b[38;5;241;43m=\u001b[39;49m\u001b[43mengine_kwargs\u001b[49m\u001b[43m,\u001b[49m\n\u001b[0;32m   2157\u001b[0m \u001b[43m    \u001b[49m\u001b[43m)\u001b[49m\n",
      "File \u001b[1;32m~\\anaconda3\\envs\\lmm\\lib\\site-packages\\pandas\\core\\window\\rolling.py:1528\u001b[0m, in \u001b[0;36mRollingAndExpandingMixin.median\u001b[1;34m(self, numeric_only, engine, engine_kwargs)\u001b[0m\n\u001b[0;32m   1521\u001b[0m     \u001b[38;5;28;01mreturn\u001b[39;00m \u001b[38;5;28mself\u001b[39m\u001b[38;5;241m.\u001b[39mapply(\n\u001b[0;32m   1522\u001b[0m         func,\n\u001b[0;32m   1523\u001b[0m         raw\u001b[38;5;241m=\u001b[39m\u001b[38;5;28;01mTrue\u001b[39;00m,\n\u001b[0;32m   1524\u001b[0m         engine\u001b[38;5;241m=\u001b[39mengine,\n\u001b[0;32m   1525\u001b[0m         engine_kwargs\u001b[38;5;241m=\u001b[39mengine_kwargs,\n\u001b[0;32m   1526\u001b[0m     )\n\u001b[0;32m   1527\u001b[0m window_func \u001b[38;5;241m=\u001b[39m window_aggregations\u001b[38;5;241m.\u001b[39mroll_median_c\n\u001b[1;32m-> 1528\u001b[0m \u001b[38;5;28;01mreturn\u001b[39;00m \u001b[38;5;28;43mself\u001b[39;49m\u001b[38;5;241;43m.\u001b[39;49m\u001b[43m_apply\u001b[49m\u001b[43m(\u001b[49m\u001b[43mwindow_func\u001b[49m\u001b[43m,\u001b[49m\u001b[43m \u001b[49m\u001b[43mname\u001b[49m\u001b[38;5;241;43m=\u001b[39;49m\u001b[38;5;124;43m\"\u001b[39;49m\u001b[38;5;124;43mmedian\u001b[39;49m\u001b[38;5;124;43m\"\u001b[39;49m\u001b[43m,\u001b[49m\u001b[43m \u001b[49m\u001b[43mnumeric_only\u001b[49m\u001b[38;5;241;43m=\u001b[39;49m\u001b[43mnumeric_only\u001b[49m\u001b[43m)\u001b[49m\n",
      "File \u001b[1;32m~\\anaconda3\\envs\\lmm\\lib\\site-packages\\pandas\\core\\window\\rolling.py:615\u001b[0m, in \u001b[0;36mBaseWindow._apply\u001b[1;34m(self, func, name, numeric_only, numba_args, **kwargs)\u001b[0m\n\u001b[0;32m    612\u001b[0m     \u001b[38;5;28;01mreturn\u001b[39;00m result\n\u001b[0;32m    614\u001b[0m \u001b[38;5;28;01mif\u001b[39;00m \u001b[38;5;28mself\u001b[39m\u001b[38;5;241m.\u001b[39mmethod \u001b[38;5;241m==\u001b[39m \u001b[38;5;124m\"\u001b[39m\u001b[38;5;124msingle\u001b[39m\u001b[38;5;124m\"\u001b[39m:\n\u001b[1;32m--> 615\u001b[0m     \u001b[38;5;28;01mreturn\u001b[39;00m \u001b[38;5;28;43mself\u001b[39;49m\u001b[38;5;241;43m.\u001b[39;49m\u001b[43m_apply_blockwise\u001b[49m\u001b[43m(\u001b[49m\u001b[43mhomogeneous_func\u001b[49m\u001b[43m,\u001b[49m\u001b[43m \u001b[49m\u001b[43mname\u001b[49m\u001b[43m,\u001b[49m\u001b[43m \u001b[49m\u001b[43mnumeric_only\u001b[49m\u001b[43m)\u001b[49m\n\u001b[0;32m    616\u001b[0m \u001b[38;5;28;01melse\u001b[39;00m:\n\u001b[0;32m    617\u001b[0m     \u001b[38;5;28;01mreturn\u001b[39;00m \u001b[38;5;28mself\u001b[39m\u001b[38;5;241m.\u001b[39m_apply_tablewise(homogeneous_func, name, numeric_only)\n",
      "File \u001b[1;32m~\\anaconda3\\envs\\lmm\\lib\\site-packages\\pandas\\core\\window\\rolling.py:468\u001b[0m, in \u001b[0;36mBaseWindow._apply_blockwise\u001b[1;34m(self, homogeneous_func, name, numeric_only)\u001b[0m\n\u001b[0;32m    466\u001b[0m \u001b[38;5;28mself\u001b[39m\u001b[38;5;241m.\u001b[39m_validate_numeric_only(name, numeric_only)\n\u001b[0;32m    467\u001b[0m \u001b[38;5;28;01mif\u001b[39;00m \u001b[38;5;28mself\u001b[39m\u001b[38;5;241m.\u001b[39m_selected_obj\u001b[38;5;241m.\u001b[39mndim \u001b[38;5;241m==\u001b[39m \u001b[38;5;241m1\u001b[39m:\n\u001b[1;32m--> 468\u001b[0m     \u001b[38;5;28;01mreturn\u001b[39;00m \u001b[38;5;28;43mself\u001b[39;49m\u001b[38;5;241;43m.\u001b[39;49m\u001b[43m_apply_series\u001b[49m\u001b[43m(\u001b[49m\u001b[43mhomogeneous_func\u001b[49m\u001b[43m,\u001b[49m\u001b[43m \u001b[49m\u001b[43mname\u001b[49m\u001b[43m)\u001b[49m\n\u001b[0;32m    470\u001b[0m obj \u001b[38;5;241m=\u001b[39m \u001b[38;5;28mself\u001b[39m\u001b[38;5;241m.\u001b[39m_create_data(\u001b[38;5;28mself\u001b[39m\u001b[38;5;241m.\u001b[39m_selected_obj, numeric_only)\n\u001b[0;32m    471\u001b[0m \u001b[38;5;28;01mif\u001b[39;00m name \u001b[38;5;241m==\u001b[39m \u001b[38;5;124m\"\u001b[39m\u001b[38;5;124mcount\u001b[39m\u001b[38;5;124m\"\u001b[39m:\n\u001b[0;32m    472\u001b[0m     \u001b[38;5;66;03m# GH 12541: Special case for count where we support date-like types\u001b[39;00m\n",
      "File \u001b[1;32m~\\anaconda3\\envs\\lmm\\lib\\site-packages\\pandas\\core\\window\\rolling.py:452\u001b[0m, in \u001b[0;36mBaseWindow._apply_series\u001b[1;34m(self, homogeneous_func, name)\u001b[0m\n\u001b[0;32m    449\u001b[0m \u001b[38;5;28;01mexcept\u001b[39;00m (\u001b[38;5;167;01mTypeError\u001b[39;00m, \u001b[38;5;167;01mNotImplementedError\u001b[39;00m) \u001b[38;5;28;01mas\u001b[39;00m err:\n\u001b[0;32m    450\u001b[0m     \u001b[38;5;28;01mraise\u001b[39;00m DataError(\u001b[38;5;124m\"\u001b[39m\u001b[38;5;124mNo numeric types to aggregate\u001b[39m\u001b[38;5;124m\"\u001b[39m) \u001b[38;5;28;01mfrom\u001b[39;00m \u001b[38;5;21;01merr\u001b[39;00m\n\u001b[1;32m--> 452\u001b[0m result \u001b[38;5;241m=\u001b[39m \u001b[43mhomogeneous_func\u001b[49m\u001b[43m(\u001b[49m\u001b[43mvalues\u001b[49m\u001b[43m)\u001b[49m\n\u001b[0;32m    453\u001b[0m index \u001b[38;5;241m=\u001b[39m \u001b[38;5;28mself\u001b[39m\u001b[38;5;241m.\u001b[39m_slice_axis_for_step(obj\u001b[38;5;241m.\u001b[39mindex, result)\n\u001b[0;32m    454\u001b[0m \u001b[38;5;28;01mreturn\u001b[39;00m obj\u001b[38;5;241m.\u001b[39m_constructor(result, index\u001b[38;5;241m=\u001b[39mindex, name\u001b[38;5;241m=\u001b[39mobj\u001b[38;5;241m.\u001b[39mname)\n",
      "File \u001b[1;32m~\\anaconda3\\envs\\lmm\\lib\\site-packages\\pandas\\core\\window\\rolling.py:610\u001b[0m, in \u001b[0;36mBaseWindow._apply.<locals>.homogeneous_func\u001b[1;34m(values)\u001b[0m\n\u001b[0;32m    607\u001b[0m     \u001b[38;5;28;01mreturn\u001b[39;00m func(x, start, end, min_periods, \u001b[38;5;241m*\u001b[39mnumba_args)\n\u001b[0;32m    609\u001b[0m \u001b[38;5;28;01mwith\u001b[39;00m np\u001b[38;5;241m.\u001b[39merrstate(\u001b[38;5;28mall\u001b[39m\u001b[38;5;241m=\u001b[39m\u001b[38;5;124m\"\u001b[39m\u001b[38;5;124mignore\u001b[39m\u001b[38;5;124m\"\u001b[39m):\n\u001b[1;32m--> 610\u001b[0m     result \u001b[38;5;241m=\u001b[39m \u001b[43mcalc\u001b[49m\u001b[43m(\u001b[49m\u001b[43mvalues\u001b[49m\u001b[43m)\u001b[49m\n\u001b[0;32m    612\u001b[0m \u001b[38;5;28;01mreturn\u001b[39;00m result\n",
      "File \u001b[1;32m~\\anaconda3\\envs\\lmm\\lib\\site-packages\\pandas\\core\\window\\rolling.py:607\u001b[0m, in \u001b[0;36mBaseWindow._apply.<locals>.homogeneous_func.<locals>.calc\u001b[1;34m(x)\u001b[0m\n\u001b[0;32m    598\u001b[0m start, end \u001b[38;5;241m=\u001b[39m window_indexer\u001b[38;5;241m.\u001b[39mget_window_bounds(\n\u001b[0;32m    599\u001b[0m     num_values\u001b[38;5;241m=\u001b[39m\u001b[38;5;28mlen\u001b[39m(x),\n\u001b[0;32m    600\u001b[0m     min_periods\u001b[38;5;241m=\u001b[39mmin_periods,\n\u001b[1;32m   (...)\u001b[0m\n\u001b[0;32m    603\u001b[0m     step\u001b[38;5;241m=\u001b[39m\u001b[38;5;28mself\u001b[39m\u001b[38;5;241m.\u001b[39mstep,\n\u001b[0;32m    604\u001b[0m )\n\u001b[0;32m    605\u001b[0m \u001b[38;5;28mself\u001b[39m\u001b[38;5;241m.\u001b[39m_check_window_bounds(start, end, \u001b[38;5;28mlen\u001b[39m(x))\n\u001b[1;32m--> 607\u001b[0m \u001b[38;5;28;01mreturn\u001b[39;00m \u001b[43mfunc\u001b[49m\u001b[43m(\u001b[49m\u001b[43mx\u001b[49m\u001b[43m,\u001b[49m\u001b[43m \u001b[49m\u001b[43mstart\u001b[49m\u001b[43m,\u001b[49m\u001b[43m \u001b[49m\u001b[43mend\u001b[49m\u001b[43m,\u001b[49m\u001b[43m \u001b[49m\u001b[43mmin_periods\u001b[49m\u001b[43m,\u001b[49m\u001b[43m \u001b[49m\u001b[38;5;241;43m*\u001b[39;49m\u001b[43mnumba_args\u001b[49m\u001b[43m)\u001b[49m\n",
      "\u001b[1;31mKeyboardInterrupt\u001b[0m: "
     ]
    }
   ],
   "source": [
    "X = add_nan_indicators(dataset)\n",
    "X_downsampled = add_nan_indicators(downsampled_dataset)\n",
    "\n",
    "# Engineered\n",
    "XX, y_engineered = preprecess_data(X)\n",
    "new_feature_names = [f\"new_feature_{i}\" for i in range(XX.shape[1])]\n",
    "XX_df = pd.DataFrame(XX, columns=new_feature_names, index=X.index)\n",
    "X_engineered = pd.concat([X, XX_df], axis=1)\n",
    "\n",
    "# Engineered downsampled\n",
    "XX, y_engineered = preprecess_data(X_downsampled)\n",
    "new_feature_names = [f\"new_feature_{i}\" for i in range(XX.shape[1])]\n",
    "XX_df = pd.DataFrame(XX, columns=new_feature_names, index=X.index)\n",
    "X_downsampled_engineered = pd.concat([X, XX_df], axis=1)\n",
    "\n",
    "# Base\n",
    "X = dataset.drop('SepsisLabel', axis=1) \n",
    "y = dataset['SepsisLabel']"
   ]
  },
  {
   "cell_type": "code",
   "execution_count": null,
   "id": "0b6f058b-33a6-434b-bb16-b7179107aa14",
   "metadata": {
    "scrolled": true
   },
   "outputs": [],
   "source": [
    "# just in case\n",
    "dataset *= 0\n",
    "\n",
    "print(\"Seeing if there are still any nan values or +/- infinities\")\n",
    "# Just trying to fix some errors I got only on a GPU\n",
    "# if X.isin([np.nan, np.inf, -np.inf]).any().any():\n",
    "#     print(\"Data contains NaN or infinite values. Handling...\")\n",
    "#     X.replace([np.inf, -np.inf], np.nan, inplace=True)\n",
    "#     X.fillna(method='ffill', inplace=True)\n",
    "if X.isin([np.nan, np.inf, -np.inf]).any().any():\n",
    "    print(\"Data contains NaN or infinite values. Handling...\")\n",
    "    # Replace infinite values with NaN so they can be filled too\n",
    "    X.replace([np.inf, -np.inf], np.nan, inplace=True)\n",
    "    \n",
    "    # First apply forward fill\n",
    "    X.fillna(method='ffill', inplace=True)\n",
    "    # Then apply backward fill for any remaining NaNs\n",
    "    X.fillna(method='bfill', inplace=True)\n",
    "\n",
    "# Ensure no NaNs or infinities in the target variable as well\n",
    "if y.isin([np.nan, np.inf, -np.inf]).any():\n",
    "    print(\"Target contains NaN or infinite values. Handling...\")\n",
    "    y.replace([np.inf, -np.inf], np.nan, inplace=True)\n",
    "    y.fillna(method='ffill', inplace=True)"
   ]
  },
  {
   "cell_type": "code",
   "execution_count": null,
   "id": "bf738edc-e01b-4980-81d0-0d7a71775e49",
   "metadata": {},
   "outputs": [],
   "source": [
    "# Find the maximum sequence length for padding\n",
    "# Yes it's really high, 336, consider making it larger to accommodate actual test set\n",
    "max_length = X.groupby('patient_id').size().max()\n",
    "\n",
    "print(\"Max length (inputs will be padded to): \", max_length)\n",
    "\n",
    "patient_ids = X.index.get_level_values('patient_id').unique()\n",
    "train_ids, val_ids = train_test_split(patient_ids, test_size=0.2, random_state=42)"
   ]
  },
  {
   "cell_type": "code",
   "execution_count": null,
   "id": "86409435-5388-4306-b5ba-cc567febe47c",
   "metadata": {},
   "outputs": [],
   "source": [
    "np.shape(dataset)"
   ]
  },
  {
   "cell_type": "code",
   "execution_count": null,
   "id": "ef5b4aca-9d5b-4a99-94c9-980aa97a14cf",
   "metadata": {},
   "outputs": [],
   "source": [
    "np.shape(X)"
   ]
  },
  {
   "cell_type": "code",
   "execution_count": null,
   "id": "ca0ae21d-5a62-4da3-b3d4-abe48470f3c3",
   "metadata": {},
   "outputs": [],
   "source": [
    "np.shape(XX)"
   ]
  },
  {
   "cell_type": "code",
   "execution_count": null,
   "id": "35900025-36d6-4a9b-b9e6-fa26bd9e0af9",
   "metadata": {},
   "outputs": [],
   "source": [
    "np.shape(y)"
   ]
  },
  {
   "cell_type": "code",
   "execution_count": null,
   "id": "f5c84006-76a8-433b-a10a-f48220df7cb3",
   "metadata": {},
   "outputs": [],
   "source": []
  }
 ],
 "metadata": {
  "kernelspec": {
   "display_name": "Python 3 (ipykernel)",
   "language": "python",
   "name": "python3"
  },
  "language_info": {
   "codemirror_mode": {
    "name": "ipython",
    "version": 3
   },
   "file_extension": ".py",
   "mimetype": "text/x-python",
   "name": "python",
   "nbconvert_exporter": "python",
   "pygments_lexer": "ipython3",
   "version": "3.8.18"
  }
 },
 "nbformat": 4,
 "nbformat_minor": 5
}
